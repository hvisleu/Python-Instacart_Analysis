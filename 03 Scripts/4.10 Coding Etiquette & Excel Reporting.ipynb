{
 "cells": [
  {
   "cell_type": "markdown",
   "id": "95ceb167",
   "metadata": {},
   "source": [
    "# Table of Contents\n",
    "#### 01. Importing\n",
    "#### 02. Addressing PII Data\n",
    "#### 03. Create a regional segmentation of the data\n",
    "#### 04. Exclusion flag - low activity customers\n",
    "#### 05. Customer Profiling\n",
    "#### 06. Visualizations\n",
    "#### 07. Aggregate\n",
    "#### 08. & 09. Compare your customer profiles with regions and departments and Visualizations\n",
    "#### 10. Export Data"
   ]
  },
  {
   "cell_type": "markdown",
   "id": "bd1cf84d",
   "metadata": {},
   "source": [
    "## 01. Importing"
   ]
  },
  {
   "cell_type": "code",
   "execution_count": 2,
   "id": "3f1221fe",
   "metadata": {},
   "outputs": [],
   "source": [
    "# Import libraries\n",
    "import pandas as pd\n",
    "import numpy as np\n",
    "import os\n",
    "import matplotlib.pyplot as plt\n",
    "import seaborn as sns\n",
    "import scipy"
   ]
  },
  {
   "cell_type": "code",
   "execution_count": 3,
   "id": "7f43031d",
   "metadata": {},
   "outputs": [],
   "source": [
    "# Path\n",
    "path =r'/Users/heathervisentin/Desktop/Data Analysis/Achievement 4/07-2020 Instacart Basket Analysis'"
   ]
  },
  {
   "cell_type": "code",
   "execution_count": 3,
   "id": "b4dc28ce",
   "metadata": {},
   "outputs": [],
   "source": [
    "# Importing Data: newest data\n",
    "dfnewest = pd.read_pickle(os.path.join(path, '02 Data', 'Prepared Data', 'ords_prods_cust_merge.pkl'))"
   ]
  },
  {
   "cell_type": "markdown",
   "id": "7fdc1979",
   "metadata": {},
   "source": [
    "## 02. Addressing PII Data"
   ]
  },
  {
   "cell_type": "code",
   "execution_count": null,
   "id": "3daf9eda",
   "metadata": {},
   "outputs": [],
   "source": [
    "#check data\n",
    "dfnewest.head()"
   ]
  },
  {
   "cell_type": "code",
   "execution_count": 5,
   "id": "75d9bebf",
   "metadata": {},
   "outputs": [],
   "source": [
    "# dropping first and last name due to PII\n",
    "dfnewest = dfnewest.drop(columns = ['First Name', 'Last Name'])"
   ]
  },
  {
   "cell_type": "code",
   "execution_count": null,
   "id": "ad2ceffe",
   "metadata": {
    "scrolled": true
   },
   "outputs": [],
   "source": [
    "#checking \n",
    "dfnewest.head()"
   ]
  },
  {
   "cell_type": "code",
   "execution_count": 7,
   "id": "69d06a56",
   "metadata": {},
   "outputs": [],
   "source": [
    "pd.options.display.max_columns = None"
   ]
  },
  {
   "cell_type": "code",
   "execution_count": null,
   "id": "487c9a0a",
   "metadata": {
    "scrolled": true
   },
   "outputs": [],
   "source": [
    "#double checking no other columns need to be addressed due to PII\n",
    "dfnewest.head()"
   ]
  },
  {
   "cell_type": "markdown",
   "id": "f4abfd9c",
   "metadata": {},
   "source": [
    "## 03. Create a regional segmentation of the data"
   ]
  },
  {
   "cell_type": "markdown",
   "id": "4cc75de5",
   "metadata": {},
   "source": [
    "### 3a - defining regions"
   ]
  },
  {
   "cell_type": "code",
   "execution_count": 9,
   "id": "98e14462",
   "metadata": {},
   "outputs": [],
   "source": [
    "#Creating regions per wikipedia\n",
    "Northeast = ['Maine', 'New Hampshire', 'Vermont', 'Massachusetts', 'Rhode Island', 'Connecticut', 'New York', 'Pennsylvania', 'New Jersey']\n",
    "Midwest = ['Wisconsin', 'Michigan','Illinois', 'Indiana', 'Ohio', 'North Dakota', 'South Dakota', 'Nebraska', 'Kansas', 'Minnesota', 'Iowa', 'Missouri']\n",
    "South = ['Delaware', 'Maryland', 'District of Columbia', 'Virginia', 'West Virginia', 'North Carolina', 'South Carolina', 'Georgia', 'Florida', 'Kentucky', 'Tennessee', 'Mississippi', 'Alabama', 'Oklahoma', 'Texas', 'Arkansas', 'Louisiana']\n",
    "West = ['Idaho', 'Montana', 'Wyoming', 'Nevada', 'Utah', 'Colorado', 'Arizona', 'New Mexico', 'Alaska', 'Washington', 'Oregon', 'California', 'Hawaii']"
   ]
  },
  {
   "cell_type": "code",
   "execution_count": 10,
   "id": "dd0ae030",
   "metadata": {},
   "outputs": [],
   "source": [
    "# creating new region column\n",
    "dfnewest.loc[dfnewest['State'].isin(Northeast), 'Region'] = 'Northeast'\n",
    "dfnewest.loc[dfnewest['State'].isin(South), 'Region'] = 'South'\n",
    "dfnewest.loc[dfnewest['State'].isin(West), 'Region'] = 'West'\n",
    "dfnewest.loc[dfnewest['State'].isin(Midwest), 'Region'] = 'Midwest'"
   ]
  },
  {
   "cell_type": "code",
   "execution_count": 11,
   "id": "b46f2d08",
   "metadata": {
    "scrolled": true
   },
   "outputs": [
    {
     "data": {
      "text/plain": [
       "0    South\n",
       "1    South\n",
       "2    South\n",
       "3    South\n",
       "4    South\n",
       "Name: Region, dtype: object"
      ]
     },
     "execution_count": 11,
     "metadata": {},
     "output_type": "execute_result"
    }
   ],
   "source": [
    "# checking new region column\n",
    "dfnewest['Region'].head()"
   ]
  },
  {
   "cell_type": "markdown",
   "id": "a0a31f9b",
   "metadata": {},
   "source": [
    "double checking to make sure they add up"
   ]
  },
  {
   "cell_type": "code",
   "execution_count": 12,
   "id": "93345f0c",
   "metadata": {},
   "outputs": [
    {
     "data": {
      "text/plain": [
       "(32404859, 32)"
      ]
     },
     "execution_count": 12,
     "metadata": {},
     "output_type": "execute_result"
    }
   ],
   "source": [
    "dfnewest.shape"
   ]
  },
  {
   "cell_type": "code",
   "execution_count": 13,
   "id": "46ea466f",
   "metadata": {},
   "outputs": [
    {
     "data": {
      "text/plain": [
       "South        10791885\n",
       "West          8292913\n",
       "Midwest       7597325\n",
       "Northeast     5722736\n",
       "Name: Region, dtype: int64"
      ]
     },
     "execution_count": 13,
     "metadata": {},
     "output_type": "execute_result"
    }
   ],
   "source": [
    "dfnewest['Region'].value_counts(dropna = False)"
   ]
  },
  {
   "cell_type": "markdown",
   "id": "6ac3922d",
   "metadata": {},
   "source": [
    "### 3b - spending habits across regions"
   ]
  },
  {
   "cell_type": "code",
   "execution_count": null,
   "id": "f8528e8c",
   "metadata": {},
   "outputs": [],
   "source": [
    "# create crosstab to compare\n",
    "crosstab = pd.crosstab(dfnewest['Region'], dfnewest['spending_flag'], dropna = False)"
   ]
  },
  {
   "cell_type": "code",
   "execution_count": null,
   "id": "90e7d772",
   "metadata": {},
   "outputs": [],
   "source": [
    "crosstab"
   ]
  },
  {
   "cell_type": "markdown",
   "id": "aa1ffecf",
   "metadata": {},
   "source": [
    "## 04. Exclusion flag - low activity customers"
   ]
  },
  {
   "cell_type": "code",
   "execution_count": 17,
   "id": "2dd2de3f",
   "metadata": {},
   "outputs": [],
   "source": [
    "# create new column for activity\n",
    "s"
   ]
  },
  {
   "cell_type": "code",
   "execution_count": null,
   "id": "3d3b9004",
   "metadata": {
    "scrolled": false
   },
   "outputs": [],
   "source": [
    "# check new colum\n",
    "dfnewest.head()"
   ]
  },
  {
   "cell_type": "code",
   "execution_count": 19,
   "id": "322cc4b1",
   "metadata": {},
   "outputs": [],
   "source": [
    "# create subset for low activity customer\n",
    "df_low_activity=dfnewest[dfnewest['activity'] == 'low activity customer']"
   ]
  },
  {
   "cell_type": "code",
   "execution_count": 20,
   "id": "3d40c7f0",
   "metadata": {},
   "outputs": [],
   "source": [
    "df_high_activity=dfnewest[dfnewest['activity'] == 'high activity customer']"
   ]
  },
  {
   "cell_type": "markdown",
   "id": "ba752a03",
   "metadata": {},
   "source": [
    "checking shape, making sure the add up"
   ]
  },
  {
   "cell_type": "code",
   "execution_count": 21,
   "id": "bf1d8318",
   "metadata": {},
   "outputs": [
    {
     "data": {
      "text/plain": [
       "(1440295, 33)"
      ]
     },
     "execution_count": 21,
     "metadata": {},
     "output_type": "execute_result"
    }
   ],
   "source": [
    "df_low_activity.shape"
   ]
  },
  {
   "cell_type": "code",
   "execution_count": 22,
   "id": "374f5bbb",
   "metadata": {},
   "outputs": [
    {
     "data": {
      "text/plain": [
       "(30964564, 33)"
      ]
     },
     "execution_count": 22,
     "metadata": {},
     "output_type": "execute_result"
    }
   ],
   "source": [
    "df_high_activity.shape"
   ]
  },
  {
   "cell_type": "code",
   "execution_count": 23,
   "id": "39eba871",
   "metadata": {},
   "outputs": [
    {
     "data": {
      "text/plain": [
       "(32404859, 33)"
      ]
     },
     "execution_count": 23,
     "metadata": {},
     "output_type": "execute_result"
    }
   ],
   "source": [
    "dfnewest.shape"
   ]
  },
  {
   "cell_type": "markdown",
   "id": "8cc3eb5c",
   "metadata": {},
   "source": [
    "checking max order is less than 5"
   ]
  },
  {
   "cell_type": "code",
   "execution_count": 24,
   "id": "94444f9c",
   "metadata": {},
   "outputs": [
    {
     "data": {
      "text/plain": [
       "4"
      ]
     },
     "execution_count": 24,
     "metadata": {},
     "output_type": "execute_result"
    }
   ],
   "source": [
    "df_low_activity['max_order'].max()"
   ]
  },
  {
   "cell_type": "code",
   "execution_count": 25,
   "id": "708902f7",
   "metadata": {},
   "outputs": [],
   "source": [
    "#export low activitiy df\n",
    "df_low_activity.to_pickle(os.path.join(path, '02 Data', 'Prepared Data', 'low_activ_cust.pkl'))"
   ]
  },
  {
   "cell_type": "code",
   "execution_count": 26,
   "id": "2a18b6de",
   "metadata": {},
   "outputs": [],
   "source": [
    "#export high activitiy df\n",
    "df_high_activity.to_pickle(os.path.join(path, '02 Data', 'Prepared Data', 'high_activ_cust.pkl'))"
   ]
  },
  {
   "cell_type": "markdown",
   "id": "6f5aa26b",
   "metadata": {},
   "source": [
    "## 05. Customer Profiling"
   ]
  },
  {
   "cell_type": "code",
   "execution_count": 16,
   "id": "1f597819",
   "metadata": {},
   "outputs": [],
   "source": [
    "# Importing high activity data\n",
    "df_high = pd.read_pickle(os.path.join(path, '02 Data', 'Prepared Data', 'high_activ_cust.pkl'))"
   ]
  },
  {
   "cell_type": "code",
   "execution_count": null,
   "id": "d8eec34a",
   "metadata": {},
   "outputs": [],
   "source": [
    "df_high.head()"
   ]
  },
  {
   "cell_type": "markdown",
   "id": "730c1c6e",
   "metadata": {},
   "source": [
    "### Age"
   ]
  },
  {
   "cell_type": "code",
   "execution_count": 32,
   "id": "dd1ffdfb",
   "metadata": {},
   "outputs": [
    {
     "data": {
      "text/plain": [
       "81"
      ]
     },
     "execution_count": 32,
     "metadata": {},
     "output_type": "execute_result"
    }
   ],
   "source": [
    "#looking at age range\n",
    "df_high['Age'].max()"
   ]
  },
  {
   "cell_type": "code",
   "execution_count": 33,
   "id": "c2a23c0e",
   "metadata": {},
   "outputs": [
    {
     "data": {
      "text/plain": [
       "18"
      ]
     },
     "execution_count": 33,
     "metadata": {},
     "output_type": "execute_result"
    }
   ],
   "source": [
    "df_high['Age'].min()"
   ]
  },
  {
   "cell_type": "code",
   "execution_count": 10,
   "id": "a92b9931",
   "metadata": {},
   "outputs": [],
   "source": [
    "# create new column for age groups\n",
    "df_new.loc[df_new['Age'] >=60, 'age_group'] = 'Older Age'\n",
    "df_new.loc[(df_new['Age'] >35) & (df_new['Age'] <60), 'age_group'] = 'Middle Age'\n",
    "df_new.loc[df_new['Age'] <=35, 'age_group'] = 'Young Age'"
   ]
  },
  {
   "cell_type": "code",
   "execution_count": 35,
   "id": "9cd26f62",
   "metadata": {},
   "outputs": [
    {
     "data": {
      "text/plain": [
       "(30964564, 35)"
      ]
     },
     "execution_count": 35,
     "metadata": {},
     "output_type": "execute_result"
    }
   ],
   "source": [
    "# checking\n",
    "df_high.shape"
   ]
  },
  {
   "cell_type": "code",
   "execution_count": 36,
   "id": "0ab7c604",
   "metadata": {},
   "outputs": [
    {
     "data": {
      "text/plain": [
       "Middle Age    11651255\n",
       "Older Age     10574504\n",
       "Young Age      8738805\n",
       "Name: age_group, dtype: int64"
      ]
     },
     "execution_count": 36,
     "metadata": {},
     "output_type": "execute_result"
    }
   ],
   "source": [
    "df_high['age_group'].value_counts(dropna=False)"
   ]
  },
  {
   "cell_type": "code",
   "execution_count": 37,
   "id": "da86885f",
   "metadata": {
    "scrolled": true
   },
   "outputs": [
    {
     "data": {
      "text/html": [
       "<div>\n",
       "<style scoped>\n",
       "    .dataframe tbody tr th:only-of-type {\n",
       "        vertical-align: middle;\n",
       "    }\n",
       "\n",
       "    .dataframe tbody tr th {\n",
       "        vertical-align: top;\n",
       "    }\n",
       "\n",
       "    .dataframe thead th {\n",
       "        text-align: right;\n",
       "    }\n",
       "</style>\n",
       "<table border=\"1\" class=\"dataframe\">\n",
       "  <thead>\n",
       "    <tr style=\"text-align: right;\">\n",
       "      <th></th>\n",
       "      <th>order_id</th>\n",
       "      <th>user_id</th>\n",
       "      <th>order_number</th>\n",
       "      <th>orders_day_of_week</th>\n",
       "      <th>order_hour_of_day</th>\n",
       "      <th>days_since_last_order</th>\n",
       "      <th>product_id</th>\n",
       "      <th>add_to_cart_order</th>\n",
       "      <th>reordered</th>\n",
       "      <th>product_name</th>\n",
       "      <th>aisle_id</th>\n",
       "      <th>department_id</th>\n",
       "      <th>prices</th>\n",
       "      <th>_merge</th>\n",
       "      <th>busiest_day</th>\n",
       "      <th>price_range_loc</th>\n",
       "      <th>busiest_days</th>\n",
       "      <th>busiest_period_of_day</th>\n",
       "      <th>max_order</th>\n",
       "      <th>loyalty_flag</th>\n",
       "      <th>mean_price</th>\n",
       "      <th>spending_flag</th>\n",
       "      <th>median_days</th>\n",
       "      <th>frequency_flag</th>\n",
       "      <th>Gender</th>\n",
       "      <th>State</th>\n",
       "      <th>Age</th>\n",
       "      <th>date_joined</th>\n",
       "      <th>dependents</th>\n",
       "      <th>fam_status</th>\n",
       "      <th>income</th>\n",
       "      <th>Region</th>\n",
       "      <th>activity</th>\n",
       "      <th>dependent_group</th>\n",
       "      <th>age_group</th>\n",
       "    </tr>\n",
       "  </thead>\n",
       "  <tbody>\n",
       "    <tr>\n",
       "      <th>0</th>\n",
       "      <td>2539329</td>\n",
       "      <td>1</td>\n",
       "      <td>1</td>\n",
       "      <td>2</td>\n",
       "      <td>8</td>\n",
       "      <td>0.0</td>\n",
       "      <td>196</td>\n",
       "      <td>1</td>\n",
       "      <td>0</td>\n",
       "      <td>Soda</td>\n",
       "      <td>77</td>\n",
       "      <td>7</td>\n",
       "      <td>9.0</td>\n",
       "      <td>both</td>\n",
       "      <td>Regularly busy</td>\n",
       "      <td>Mid-range product</td>\n",
       "      <td>Regular Days</td>\n",
       "      <td>Average Orders</td>\n",
       "      <td>10</td>\n",
       "      <td>New customer</td>\n",
       "      <td>6.367797</td>\n",
       "      <td>Low Spender</td>\n",
       "      <td>20.0</td>\n",
       "      <td>Regular customer</td>\n",
       "      <td>Female</td>\n",
       "      <td>Alabama</td>\n",
       "      <td>31</td>\n",
       "      <td>2/17/2019</td>\n",
       "      <td>3</td>\n",
       "      <td>married</td>\n",
       "      <td>40423</td>\n",
       "      <td>South</td>\n",
       "      <td>high activity customer</td>\n",
       "      <td>Dependents</td>\n",
       "      <td>Young Age</td>\n",
       "    </tr>\n",
       "    <tr>\n",
       "      <th>1</th>\n",
       "      <td>2398795</td>\n",
       "      <td>1</td>\n",
       "      <td>2</td>\n",
       "      <td>3</td>\n",
       "      <td>7</td>\n",
       "      <td>15.0</td>\n",
       "      <td>196</td>\n",
       "      <td>1</td>\n",
       "      <td>1</td>\n",
       "      <td>Soda</td>\n",
       "      <td>77</td>\n",
       "      <td>7</td>\n",
       "      <td>9.0</td>\n",
       "      <td>both</td>\n",
       "      <td>Regularly busy</td>\n",
       "      <td>Mid-range product</td>\n",
       "      <td>Slowest Days</td>\n",
       "      <td>Average Orders</td>\n",
       "      <td>10</td>\n",
       "      <td>New customer</td>\n",
       "      <td>6.367797</td>\n",
       "      <td>Low Spender</td>\n",
       "      <td>20.0</td>\n",
       "      <td>Regular customer</td>\n",
       "      <td>Female</td>\n",
       "      <td>Alabama</td>\n",
       "      <td>31</td>\n",
       "      <td>2/17/2019</td>\n",
       "      <td>3</td>\n",
       "      <td>married</td>\n",
       "      <td>40423</td>\n",
       "      <td>South</td>\n",
       "      <td>high activity customer</td>\n",
       "      <td>Dependents</td>\n",
       "      <td>Young Age</td>\n",
       "    </tr>\n",
       "    <tr>\n",
       "      <th>2</th>\n",
       "      <td>473747</td>\n",
       "      <td>1</td>\n",
       "      <td>3</td>\n",
       "      <td>3</td>\n",
       "      <td>12</td>\n",
       "      <td>21.0</td>\n",
       "      <td>196</td>\n",
       "      <td>1</td>\n",
       "      <td>1</td>\n",
       "      <td>Soda</td>\n",
       "      <td>77</td>\n",
       "      <td>7</td>\n",
       "      <td>9.0</td>\n",
       "      <td>both</td>\n",
       "      <td>Regularly busy</td>\n",
       "      <td>Mid-range product</td>\n",
       "      <td>Slowest Days</td>\n",
       "      <td>Most Orders</td>\n",
       "      <td>10</td>\n",
       "      <td>New customer</td>\n",
       "      <td>6.367797</td>\n",
       "      <td>Low Spender</td>\n",
       "      <td>20.0</td>\n",
       "      <td>Regular customer</td>\n",
       "      <td>Female</td>\n",
       "      <td>Alabama</td>\n",
       "      <td>31</td>\n",
       "      <td>2/17/2019</td>\n",
       "      <td>3</td>\n",
       "      <td>married</td>\n",
       "      <td>40423</td>\n",
       "      <td>South</td>\n",
       "      <td>high activity customer</td>\n",
       "      <td>Dependents</td>\n",
       "      <td>Young Age</td>\n",
       "    </tr>\n",
       "    <tr>\n",
       "      <th>3</th>\n",
       "      <td>2254736</td>\n",
       "      <td>1</td>\n",
       "      <td>4</td>\n",
       "      <td>4</td>\n",
       "      <td>7</td>\n",
       "      <td>29.0</td>\n",
       "      <td>196</td>\n",
       "      <td>1</td>\n",
       "      <td>1</td>\n",
       "      <td>Soda</td>\n",
       "      <td>77</td>\n",
       "      <td>7</td>\n",
       "      <td>9.0</td>\n",
       "      <td>both</td>\n",
       "      <td>Least busy</td>\n",
       "      <td>Mid-range product</td>\n",
       "      <td>Slowest Days</td>\n",
       "      <td>Average Orders</td>\n",
       "      <td>10</td>\n",
       "      <td>New customer</td>\n",
       "      <td>6.367797</td>\n",
       "      <td>Low Spender</td>\n",
       "      <td>20.0</td>\n",
       "      <td>Regular customer</td>\n",
       "      <td>Female</td>\n",
       "      <td>Alabama</td>\n",
       "      <td>31</td>\n",
       "      <td>2/17/2019</td>\n",
       "      <td>3</td>\n",
       "      <td>married</td>\n",
       "      <td>40423</td>\n",
       "      <td>South</td>\n",
       "      <td>high activity customer</td>\n",
       "      <td>Dependents</td>\n",
       "      <td>Young Age</td>\n",
       "    </tr>\n",
       "    <tr>\n",
       "      <th>4</th>\n",
       "      <td>431534</td>\n",
       "      <td>1</td>\n",
       "      <td>5</td>\n",
       "      <td>4</td>\n",
       "      <td>15</td>\n",
       "      <td>28.0</td>\n",
       "      <td>196</td>\n",
       "      <td>1</td>\n",
       "      <td>1</td>\n",
       "      <td>Soda</td>\n",
       "      <td>77</td>\n",
       "      <td>7</td>\n",
       "      <td>9.0</td>\n",
       "      <td>both</td>\n",
       "      <td>Least busy</td>\n",
       "      <td>Mid-range product</td>\n",
       "      <td>Slowest Days</td>\n",
       "      <td>Most Orders</td>\n",
       "      <td>10</td>\n",
       "      <td>New customer</td>\n",
       "      <td>6.367797</td>\n",
       "      <td>Low Spender</td>\n",
       "      <td>20.0</td>\n",
       "      <td>Regular customer</td>\n",
       "      <td>Female</td>\n",
       "      <td>Alabama</td>\n",
       "      <td>31</td>\n",
       "      <td>2/17/2019</td>\n",
       "      <td>3</td>\n",
       "      <td>married</td>\n",
       "      <td>40423</td>\n",
       "      <td>South</td>\n",
       "      <td>high activity customer</td>\n",
       "      <td>Dependents</td>\n",
       "      <td>Young Age</td>\n",
       "    </tr>\n",
       "  </tbody>\n",
       "</table>\n",
       "</div>"
      ],
      "text/plain": [
       "   order_id user_id  order_number  orders_day_of_week  order_hour_of_day  \\\n",
       "0   2539329       1             1                   2                  8   \n",
       "1   2398795       1             2                   3                  7   \n",
       "2    473747       1             3                   3                 12   \n",
       "3   2254736       1             4                   4                  7   \n",
       "4    431534       1             5                   4                 15   \n",
       "\n",
       "   days_since_last_order  product_id  add_to_cart_order  reordered  \\\n",
       "0                    0.0         196                  1          0   \n",
       "1                   15.0         196                  1          1   \n",
       "2                   21.0         196                  1          1   \n",
       "3                   29.0         196                  1          1   \n",
       "4                   28.0         196                  1          1   \n",
       "\n",
       "  product_name  aisle_id  department_id  prices _merge     busiest_day  \\\n",
       "0         Soda        77              7     9.0   both  Regularly busy   \n",
       "1         Soda        77              7     9.0   both  Regularly busy   \n",
       "2         Soda        77              7     9.0   both  Regularly busy   \n",
       "3         Soda        77              7     9.0   both      Least busy   \n",
       "4         Soda        77              7     9.0   both      Least busy   \n",
       "\n",
       "     price_range_loc  busiest_days busiest_period_of_day  max_order  \\\n",
       "0  Mid-range product  Regular Days        Average Orders         10   \n",
       "1  Mid-range product  Slowest Days        Average Orders         10   \n",
       "2  Mid-range product  Slowest Days           Most Orders         10   \n",
       "3  Mid-range product  Slowest Days        Average Orders         10   \n",
       "4  Mid-range product  Slowest Days           Most Orders         10   \n",
       "\n",
       "   loyalty_flag  mean_price spending_flag  median_days    frequency_flag  \\\n",
       "0  New customer    6.367797   Low Spender         20.0  Regular customer   \n",
       "1  New customer    6.367797   Low Spender         20.0  Regular customer   \n",
       "2  New customer    6.367797   Low Spender         20.0  Regular customer   \n",
       "3  New customer    6.367797   Low Spender         20.0  Regular customer   \n",
       "4  New customer    6.367797   Low Spender         20.0  Regular customer   \n",
       "\n",
       "   Gender    State  Age date_joined  dependents fam_status  income Region  \\\n",
       "0  Female  Alabama   31   2/17/2019           3    married   40423  South   \n",
       "1  Female  Alabama   31   2/17/2019           3    married   40423  South   \n",
       "2  Female  Alabama   31   2/17/2019           3    married   40423  South   \n",
       "3  Female  Alabama   31   2/17/2019           3    married   40423  South   \n",
       "4  Female  Alabama   31   2/17/2019           3    married   40423  South   \n",
       "\n",
       "                 activity dependent_group  age_group  \n",
       "0  high activity customer      Dependents  Young Age  \n",
       "1  high activity customer      Dependents  Young Age  \n",
       "2  high activity customer      Dependents  Young Age  \n",
       "3  high activity customer      Dependents  Young Age  \n",
       "4  high activity customer      Dependents  Young Age  "
      ]
     },
     "execution_count": 37,
     "metadata": {},
     "output_type": "execute_result"
    }
   ],
   "source": [
    "# checking column\n",
    "df_high.head()"
   ]
  },
  {
   "cell_type": "markdown",
   "id": "ebb4ee16",
   "metadata": {},
   "source": [
    "### Income"
   ]
  },
  {
   "cell_type": "code",
   "execution_count": 38,
   "id": "7cb7e9f7",
   "metadata": {},
   "outputs": [
    {
     "data": {
      "text/plain": [
       "count    3.096456e+07\n",
       "mean     9.967587e+04\n",
       "std      4.314187e+04\n",
       "min      2.590300e+04\n",
       "25%      6.729200e+04\n",
       "50%      9.676500e+04\n",
       "75%      1.281020e+05\n",
       "max      5.939010e+05\n",
       "Name: income, dtype: float64"
      ]
     },
     "execution_count": 38,
     "metadata": {},
     "output_type": "execute_result"
    }
   ],
   "source": [
    "df_high['income'].describe()"
   ]
  },
  {
   "cell_type": "code",
   "execution_count": 39,
   "id": "93ed6b40",
   "metadata": {},
   "outputs": [
    {
     "data": {
      "text/plain": [
       "593901"
      ]
     },
     "execution_count": 39,
     "metadata": {},
     "output_type": "execute_result"
    }
   ],
   "source": [
    "df_high['income'].max()"
   ]
  },
  {
   "cell_type": "code",
   "execution_count": 40,
   "id": "a6e0a6ef",
   "metadata": {},
   "outputs": [
    {
     "data": {
      "text/plain": [
       "25903"
      ]
     },
     "execution_count": 40,
     "metadata": {},
     "output_type": "execute_result"
    }
   ],
   "source": [
    "df_high['income'].min()"
   ]
  },
  {
   "cell_type": "code",
   "execution_count": 41,
   "id": "a679e89e",
   "metadata": {},
   "outputs": [
    {
     "data": {
      "text/plain": [
       "99675.86510754681"
      ]
     },
     "execution_count": 41,
     "metadata": {},
     "output_type": "execute_result"
    }
   ],
   "source": [
    "df_high['income'].mean()"
   ]
  },
  {
   "cell_type": "code",
   "execution_count": 11,
   "id": "e97e3497",
   "metadata": {},
   "outputs": [],
   "source": [
    "# create new column for income groups\n",
    "df_new.loc[df_new['income'] >=99676, 'income_group'] = 'Above Average Income'\n",
    "df_new.loc[df_new['income'] <=99675, 'income_group'] = 'Below Average Income'"
   ]
  },
  {
   "cell_type": "code",
   "execution_count": 43,
   "id": "b27214cb",
   "metadata": {},
   "outputs": [
    {
     "data": {
      "text/plain": [
       "Below Average Income    16623993\n",
       "Above Average Income    14340571\n",
       "Name: income_group, dtype: int64"
      ]
     },
     "execution_count": 43,
     "metadata": {},
     "output_type": "execute_result"
    }
   ],
   "source": [
    "df_high['income_group'].value_counts(dropna=False)"
   ]
  },
  {
   "cell_type": "code",
   "execution_count": null,
   "id": "d0397da9",
   "metadata": {
    "scrolled": true
   },
   "outputs": [],
   "source": [
    "df_high.head()"
   ]
  },
  {
   "cell_type": "markdown",
   "id": "2b80cec1",
   "metadata": {},
   "source": [
    "## Departments"
   ]
  },
  {
   "cell_type": "code",
   "execution_count": 18,
   "id": "aa7ca945",
   "metadata": {},
   "outputs": [],
   "source": [
    "# Importing department data\n",
    "df_depts = pd.read_csv(os.path.join(path, '02 Data', 'Prepared Data', 'departments_wrangled.csv'), index_col=False)"
   ]
  },
  {
   "cell_type": "code",
   "execution_count": 19,
   "id": "1377423c",
   "metadata": {},
   "outputs": [
    {
     "data": {
      "text/html": [
       "<div>\n",
       "<style scoped>\n",
       "    .dataframe tbody tr th:only-of-type {\n",
       "        vertical-align: middle;\n",
       "    }\n",
       "\n",
       "    .dataframe tbody tr th {\n",
       "        vertical-align: top;\n",
       "    }\n",
       "\n",
       "    .dataframe thead th {\n",
       "        text-align: right;\n",
       "    }\n",
       "</style>\n",
       "<table border=\"1\" class=\"dataframe\">\n",
       "  <thead>\n",
       "    <tr style=\"text-align: right;\">\n",
       "      <th></th>\n",
       "      <th>Unnamed: 0</th>\n",
       "      <th>department</th>\n",
       "    </tr>\n",
       "  </thead>\n",
       "  <tbody>\n",
       "    <tr>\n",
       "      <th>0</th>\n",
       "      <td>1</td>\n",
       "      <td>frozen</td>\n",
       "    </tr>\n",
       "    <tr>\n",
       "      <th>1</th>\n",
       "      <td>2</td>\n",
       "      <td>other</td>\n",
       "    </tr>\n",
       "    <tr>\n",
       "      <th>2</th>\n",
       "      <td>3</td>\n",
       "      <td>bakery</td>\n",
       "    </tr>\n",
       "    <tr>\n",
       "      <th>3</th>\n",
       "      <td>4</td>\n",
       "      <td>produce</td>\n",
       "    </tr>\n",
       "    <tr>\n",
       "      <th>4</th>\n",
       "      <td>5</td>\n",
       "      <td>alcohol</td>\n",
       "    </tr>\n",
       "    <tr>\n",
       "      <th>5</th>\n",
       "      <td>6</td>\n",
       "      <td>international</td>\n",
       "    </tr>\n",
       "    <tr>\n",
       "      <th>6</th>\n",
       "      <td>7</td>\n",
       "      <td>beverages</td>\n",
       "    </tr>\n",
       "    <tr>\n",
       "      <th>7</th>\n",
       "      <td>8</td>\n",
       "      <td>pets</td>\n",
       "    </tr>\n",
       "    <tr>\n",
       "      <th>8</th>\n",
       "      <td>9</td>\n",
       "      <td>dry goods pasta</td>\n",
       "    </tr>\n",
       "    <tr>\n",
       "      <th>9</th>\n",
       "      <td>10</td>\n",
       "      <td>bulk</td>\n",
       "    </tr>\n",
       "    <tr>\n",
       "      <th>10</th>\n",
       "      <td>11</td>\n",
       "      <td>personal care</td>\n",
       "    </tr>\n",
       "    <tr>\n",
       "      <th>11</th>\n",
       "      <td>12</td>\n",
       "      <td>meat seafood</td>\n",
       "    </tr>\n",
       "    <tr>\n",
       "      <th>12</th>\n",
       "      <td>13</td>\n",
       "      <td>pantry</td>\n",
       "    </tr>\n",
       "    <tr>\n",
       "      <th>13</th>\n",
       "      <td>14</td>\n",
       "      <td>breakfast</td>\n",
       "    </tr>\n",
       "    <tr>\n",
       "      <th>14</th>\n",
       "      <td>15</td>\n",
       "      <td>canned goods</td>\n",
       "    </tr>\n",
       "    <tr>\n",
       "      <th>15</th>\n",
       "      <td>16</td>\n",
       "      <td>dairy eggs</td>\n",
       "    </tr>\n",
       "    <tr>\n",
       "      <th>16</th>\n",
       "      <td>17</td>\n",
       "      <td>household</td>\n",
       "    </tr>\n",
       "    <tr>\n",
       "      <th>17</th>\n",
       "      <td>18</td>\n",
       "      <td>babies</td>\n",
       "    </tr>\n",
       "    <tr>\n",
       "      <th>18</th>\n",
       "      <td>19</td>\n",
       "      <td>snacks</td>\n",
       "    </tr>\n",
       "    <tr>\n",
       "      <th>19</th>\n",
       "      <td>20</td>\n",
       "      <td>deli</td>\n",
       "    </tr>\n",
       "    <tr>\n",
       "      <th>20</th>\n",
       "      <td>21</td>\n",
       "      <td>missing</td>\n",
       "    </tr>\n",
       "  </tbody>\n",
       "</table>\n",
       "</div>"
      ],
      "text/plain": [
       "    Unnamed: 0       department\n",
       "0            1           frozen\n",
       "1            2            other\n",
       "2            3           bakery\n",
       "3            4          produce\n",
       "4            5          alcohol\n",
       "5            6    international\n",
       "6            7        beverages\n",
       "7            8             pets\n",
       "8            9  dry goods pasta\n",
       "9           10             bulk\n",
       "10          11    personal care\n",
       "11          12     meat seafood\n",
       "12          13           pantry\n",
       "13          14        breakfast\n",
       "14          15     canned goods\n",
       "15          16       dairy eggs\n",
       "16          17        household\n",
       "17          18           babies\n",
       "18          19           snacks\n",
       "19          20             deli\n",
       "20          21          missing"
      ]
     },
     "execution_count": 19,
     "metadata": {},
     "output_type": "execute_result"
    }
   ],
   "source": [
    "df_depts"
   ]
  },
  {
   "cell_type": "code",
   "execution_count": 20,
   "id": "21451229",
   "metadata": {},
   "outputs": [],
   "source": [
    "# renaming column\n",
    "df_depts=df_depts.rename(columns={'Unnamed: 0' : 'department_id'})"
   ]
  },
  {
   "cell_type": "code",
   "execution_count": 45,
   "id": "0cf075fb",
   "metadata": {},
   "outputs": [
    {
     "data": {
      "text/html": [
       "<div>\n",
       "<style scoped>\n",
       "    .dataframe tbody tr th:only-of-type {\n",
       "        vertical-align: middle;\n",
       "    }\n",
       "\n",
       "    .dataframe tbody tr th {\n",
       "        vertical-align: top;\n",
       "    }\n",
       "\n",
       "    .dataframe thead th {\n",
       "        text-align: right;\n",
       "    }\n",
       "</style>\n",
       "<table border=\"1\" class=\"dataframe\">\n",
       "  <thead>\n",
       "    <tr style=\"text-align: right;\">\n",
       "      <th></th>\n",
       "      <th>department_id</th>\n",
       "      <th>department</th>\n",
       "    </tr>\n",
       "  </thead>\n",
       "  <tbody>\n",
       "    <tr>\n",
       "      <th>0</th>\n",
       "      <td>1</td>\n",
       "      <td>frozen</td>\n",
       "    </tr>\n",
       "    <tr>\n",
       "      <th>1</th>\n",
       "      <td>2</td>\n",
       "      <td>other</td>\n",
       "    </tr>\n",
       "    <tr>\n",
       "      <th>2</th>\n",
       "      <td>3</td>\n",
       "      <td>bakery</td>\n",
       "    </tr>\n",
       "    <tr>\n",
       "      <th>3</th>\n",
       "      <td>4</td>\n",
       "      <td>produce</td>\n",
       "    </tr>\n",
       "    <tr>\n",
       "      <th>4</th>\n",
       "      <td>5</td>\n",
       "      <td>alcohol</td>\n",
       "    </tr>\n",
       "    <tr>\n",
       "      <th>5</th>\n",
       "      <td>6</td>\n",
       "      <td>international</td>\n",
       "    </tr>\n",
       "    <tr>\n",
       "      <th>6</th>\n",
       "      <td>7</td>\n",
       "      <td>beverages</td>\n",
       "    </tr>\n",
       "    <tr>\n",
       "      <th>7</th>\n",
       "      <td>8</td>\n",
       "      <td>pets</td>\n",
       "    </tr>\n",
       "    <tr>\n",
       "      <th>8</th>\n",
       "      <td>9</td>\n",
       "      <td>dry goods pasta</td>\n",
       "    </tr>\n",
       "    <tr>\n",
       "      <th>9</th>\n",
       "      <td>10</td>\n",
       "      <td>bulk</td>\n",
       "    </tr>\n",
       "    <tr>\n",
       "      <th>10</th>\n",
       "      <td>11</td>\n",
       "      <td>personal care</td>\n",
       "    </tr>\n",
       "    <tr>\n",
       "      <th>11</th>\n",
       "      <td>12</td>\n",
       "      <td>meat seafood</td>\n",
       "    </tr>\n",
       "    <tr>\n",
       "      <th>12</th>\n",
       "      <td>13</td>\n",
       "      <td>pantry</td>\n",
       "    </tr>\n",
       "    <tr>\n",
       "      <th>13</th>\n",
       "      <td>14</td>\n",
       "      <td>breakfast</td>\n",
       "    </tr>\n",
       "    <tr>\n",
       "      <th>14</th>\n",
       "      <td>15</td>\n",
       "      <td>canned goods</td>\n",
       "    </tr>\n",
       "    <tr>\n",
       "      <th>15</th>\n",
       "      <td>16</td>\n",
       "      <td>dairy eggs</td>\n",
       "    </tr>\n",
       "    <tr>\n",
       "      <th>16</th>\n",
       "      <td>17</td>\n",
       "      <td>household</td>\n",
       "    </tr>\n",
       "    <tr>\n",
       "      <th>17</th>\n",
       "      <td>18</td>\n",
       "      <td>babies</td>\n",
       "    </tr>\n",
       "    <tr>\n",
       "      <th>18</th>\n",
       "      <td>19</td>\n",
       "      <td>snacks</td>\n",
       "    </tr>\n",
       "    <tr>\n",
       "      <th>19</th>\n",
       "      <td>20</td>\n",
       "      <td>deli</td>\n",
       "    </tr>\n",
       "    <tr>\n",
       "      <th>20</th>\n",
       "      <td>21</td>\n",
       "      <td>missing</td>\n",
       "    </tr>\n",
       "  </tbody>\n",
       "</table>\n",
       "</div>"
      ],
      "text/plain": [
       "    department_id       department\n",
       "0               1           frozen\n",
       "1               2            other\n",
       "2               3           bakery\n",
       "3               4          produce\n",
       "4               5          alcohol\n",
       "5               6    international\n",
       "6               7        beverages\n",
       "7               8             pets\n",
       "8               9  dry goods pasta\n",
       "9              10             bulk\n",
       "10             11    personal care\n",
       "11             12     meat seafood\n",
       "12             13           pantry\n",
       "13             14        breakfast\n",
       "14             15     canned goods\n",
       "15             16       dairy eggs\n",
       "16             17        household\n",
       "17             18           babies\n",
       "18             19           snacks\n",
       "19             20             deli\n",
       "20             21          missing"
      ]
     },
     "execution_count": 45,
     "metadata": {},
     "output_type": "execute_result"
    }
   ],
   "source": [
    "df_depts"
   ]
  },
  {
   "cell_type": "code",
   "execution_count": 21,
   "id": "36fd8a71",
   "metadata": {},
   "outputs": [],
   "source": [
    "# Merging depts with high\n",
    "df_high_merge =df_high.merge(df_depts,on='department_id')"
   ]
  },
  {
   "cell_type": "code",
   "execution_count": 23,
   "id": "1af78337",
   "metadata": {},
   "outputs": [],
   "source": [
    "#export high activitiy df\n",
    "df_high_merge.to_pickle(os.path.join(path, '02 Data', 'Prepared Data', 'newest.pkl'))"
   ]
  },
  {
   "cell_type": "markdown",
   "id": "4b56fc12",
   "metadata": {},
   "source": [
    "### Dependents"
   ]
  },
  {
   "cell_type": "code",
   "execution_count": null,
   "id": "898ce4b6",
   "metadata": {},
   "outputs": [],
   "source": [
    "df_high.head()"
   ]
  },
  {
   "cell_type": "code",
   "execution_count": 12,
   "id": "be44157f",
   "metadata": {},
   "outputs": [],
   "source": [
    "# rename column \n",
    "df_new=df_new.rename(columns={'dependants' : 'dependents'})"
   ]
  },
  {
   "cell_type": "code",
   "execution_count": 26,
   "id": "9569923b",
   "metadata": {},
   "outputs": [
    {
     "data": {
      "text/plain": [
       "3"
      ]
     },
     "execution_count": 26,
     "metadata": {},
     "output_type": "execute_result"
    }
   ],
   "source": [
    "df_high['dependents'].max()"
   ]
  },
  {
   "cell_type": "code",
   "execution_count": 27,
   "id": "7c4397ce",
   "metadata": {},
   "outputs": [
    {
     "data": {
      "text/plain": [
       "0"
      ]
     },
     "execution_count": 27,
     "metadata": {},
     "output_type": "execute_result"
    }
   ],
   "source": [
    "df_high['dependents'].min()"
   ]
  },
  {
   "cell_type": "code",
   "execution_count": 28,
   "id": "3cf53f5f",
   "metadata": {},
   "outputs": [
    {
     "data": {
      "text/plain": [
       "1.501819176268718"
      ]
     },
     "execution_count": 28,
     "metadata": {},
     "output_type": "execute_result"
    }
   ],
   "source": [
    "df_high['dependents'].mean()"
   ]
  },
  {
   "cell_type": "code",
   "execution_count": 13,
   "id": "f7caf3da",
   "metadata": {},
   "outputs": [],
   "source": [
    "# creating new column for dependents\n",
    "df_new.loc[df_new['dependents'] == 0, 'dependent_group'] = 'No Dependents'\n",
    "df_new.loc[df_new['dependents'] >0, 'dependent_group'] = 'Dependents'"
   ]
  },
  {
   "cell_type": "code",
   "execution_count": null,
   "id": "1a521d3a",
   "metadata": {
    "scrolled": true
   },
   "outputs": [],
   "source": [
    "#check\n",
    "df_high.head()"
   ]
  },
  {
   "cell_type": "markdown",
   "id": "2dda0dce",
   "metadata": {},
   "source": [
    "## 06. Visualization"
   ]
  },
  {
   "cell_type": "code",
   "execution_count": 44,
   "id": "952e0e37",
   "metadata": {},
   "outputs": [
    {
     "data": {
      "image/png": "[encoded data removed]",
      "text/plain": [
       "<Figure size 432x288 with 1 Axes>"
      ]
     },
     "metadata": {
      "needs_background": "light"
     },
     "output_type": "display_data"
    }
   ],
   "source": [
    "# bar graph for age groups\n",
    "bar_agegroup = df_high['age_group'].value_counts().sort_index().plot.bar(title = 'The Number of Orders by Age Group')"
   ]
  },
  {
   "cell_type": "code",
   "execution_count": null,
   "id": "a3bdf36b",
   "metadata": {},
   "outputs": [],
   "source": [
    "# export bar chart\n",
    "bar_agegroup.figure.savefig(os.path.join(path, '04 Analysis','Visualizations', 'age_groups.png'))"
   ]
  },
  {
   "cell_type": "code",
   "execution_count": 45,
   "id": "66b124f0",
   "metadata": {},
   "outputs": [
    {
     "data": {
      "image/png": "[encoded data removed]",
      "text/plain": [
       "<Figure size 432x288 with 1 Axes>"
      ]
     },
     "metadata": {
      "needs_background": "light"
     },
     "output_type": "display_data"
    }
   ],
   "source": [
    "# bar graph for income groups\n",
    "bar_incomegroup = df_high['income_group'].value_counts().sort_index().plot.bar(title = 'The Number of Orders by Income Group')"
   ]
  },
  {
   "cell_type": "code",
   "execution_count": null,
   "id": "34b49930",
   "metadata": {},
   "outputs": [],
   "source": [
    "# export bar chart\n",
    "bar_incomegroup.figure.savefig(os.path.join(path, '04 Analysis','Visualizations', 'income_groups.png'))"
   ]
  },
  {
   "cell_type": "code",
   "execution_count": 46,
   "id": "a5d1d574",
   "metadata": {},
   "outputs": [
    {
     "data": {
      "image/png": "[encoded data removed]",
      "text/plain": [
       "<Figure size 432x288 with 1 Axes>"
      ]
     },
     "metadata": {
      "needs_background": "light"
     },
     "output_type": "display_data"
    }
   ],
   "source": [
    "# bar graph for dependents groups\n",
    "bar_dependent = df_high['dependent_group'].value_counts().sort_index().plot.bar(title = 'The Number of Orders by Dependent Group')"
   ]
  },
  {
   "cell_type": "code",
   "execution_count": null,
   "id": "1dac9fa0",
   "metadata": {},
   "outputs": [],
   "source": [
    "# export bar chart\n",
    "bar_dependent.figure.savefig(os.path.join(path, '04 Analysis','Visualizations', 'dependent_groups.png'))"
   ]
  },
  {
   "cell_type": "code",
   "execution_count": 4,
   "id": "f10baa26",
   "metadata": {},
   "outputs": [],
   "source": [
    "# import newest data with departments\n",
    "df_new = pd.read_pickle(os.path.join(path, '02 Data', 'Prepared Data', 'newest.pkl'))"
   ]
  },
  {
   "cell_type": "code",
   "execution_count": 5,
   "id": "4ab7b4f6",
   "metadata": {},
   "outputs": [
    {
     "data": {
      "image/png": "[encoded data removed]",
      "text/plain": [
       "<Figure size 432x288 with 1 Axes>"
      ]
     },
     "metadata": {
      "needs_background": "light"
     },
     "output_type": "display_data"
    }
   ],
   "source": [
    "# bar graph for departments\n",
    "bar_departments = df_new['department'].value_counts().sort_index().plot.bar(title = 'The Number of Orders by Department')"
   ]
  },
  {
   "cell_type": "code",
   "execution_count": 7,
   "id": "8493841a",
   "metadata": {},
   "outputs": [],
   "source": [
    "# export bar chart\n",
    "bar_departments.figure.savefig(os.path.join(path, '04 Analysis','Visualizations', 'ddepartments.png'))"
   ]
  },
  {
   "cell_type": "code",
   "execution_count": 14,
   "id": "437aae8c",
   "metadata": {},
   "outputs": [
    {
     "data": {
      "text/html": [
       "<div>\n",
       "<style scoped>\n",
       "    .dataframe tbody tr th:only-of-type {\n",
       "        vertical-align: middle;\n",
       "    }\n",
       "\n",
       "    .dataframe tbody tr th {\n",
       "        vertical-align: top;\n",
       "    }\n",
       "\n",
       "    .dataframe thead th {\n",
       "        text-align: right;\n",
       "    }\n",
       "</style>\n",
       "<table border=\"1\" class=\"dataframe\">\n",
       "  <thead>\n",
       "    <tr style=\"text-align: right;\">\n",
       "      <th></th>\n",
       "      <th>order_id</th>\n",
       "      <th>user_id</th>\n",
       "      <th>order_number</th>\n",
       "      <th>orders_day_of_week</th>\n",
       "      <th>order_hour_of_day</th>\n",
       "      <th>days_since_last_order</th>\n",
       "      <th>product_id</th>\n",
       "      <th>add_to_cart_order</th>\n",
       "      <th>reordered</th>\n",
       "      <th>product_name</th>\n",
       "      <th>...</th>\n",
       "      <th>date_joined</th>\n",
       "      <th>dependents</th>\n",
       "      <th>fam_status</th>\n",
       "      <th>income</th>\n",
       "      <th>Region</th>\n",
       "      <th>activity</th>\n",
       "      <th>department</th>\n",
       "      <th>age_group</th>\n",
       "      <th>income_group</th>\n",
       "      <th>dependent_group</th>\n",
       "    </tr>\n",
       "  </thead>\n",
       "  <tbody>\n",
       "    <tr>\n",
       "      <th>0</th>\n",
       "      <td>2539329</td>\n",
       "      <td>1</td>\n",
       "      <td>1</td>\n",
       "      <td>2</td>\n",
       "      <td>8</td>\n",
       "      <td>0.0</td>\n",
       "      <td>196</td>\n",
       "      <td>1</td>\n",
       "      <td>0</td>\n",
       "      <td>Soda</td>\n",
       "      <td>...</td>\n",
       "      <td>2/17/2019</td>\n",
       "      <td>3</td>\n",
       "      <td>married</td>\n",
       "      <td>40423</td>\n",
       "      <td>South</td>\n",
       "      <td>high activity customer</td>\n",
       "      <td>beverages</td>\n",
       "      <td>Young Age</td>\n",
       "      <td>Below Average Income</td>\n",
       "      <td>Dependents</td>\n",
       "    </tr>\n",
       "    <tr>\n",
       "      <th>1</th>\n",
       "      <td>2398795</td>\n",
       "      <td>1</td>\n",
       "      <td>2</td>\n",
       "      <td>3</td>\n",
       "      <td>7</td>\n",
       "      <td>15.0</td>\n",
       "      <td>196</td>\n",
       "      <td>1</td>\n",
       "      <td>1</td>\n",
       "      <td>Soda</td>\n",
       "      <td>...</td>\n",
       "      <td>2/17/2019</td>\n",
       "      <td>3</td>\n",
       "      <td>married</td>\n",
       "      <td>40423</td>\n",
       "      <td>South</td>\n",
       "      <td>high activity customer</td>\n",
       "      <td>beverages</td>\n",
       "      <td>Young Age</td>\n",
       "      <td>Below Average Income</td>\n",
       "      <td>Dependents</td>\n",
       "    </tr>\n",
       "    <tr>\n",
       "      <th>2</th>\n",
       "      <td>473747</td>\n",
       "      <td>1</td>\n",
       "      <td>3</td>\n",
       "      <td>3</td>\n",
       "      <td>12</td>\n",
       "      <td>21.0</td>\n",
       "      <td>196</td>\n",
       "      <td>1</td>\n",
       "      <td>1</td>\n",
       "      <td>Soda</td>\n",
       "      <td>...</td>\n",
       "      <td>2/17/2019</td>\n",
       "      <td>3</td>\n",
       "      <td>married</td>\n",
       "      <td>40423</td>\n",
       "      <td>South</td>\n",
       "      <td>high activity customer</td>\n",
       "      <td>beverages</td>\n",
       "      <td>Young Age</td>\n",
       "      <td>Below Average Income</td>\n",
       "      <td>Dependents</td>\n",
       "    </tr>\n",
       "    <tr>\n",
       "      <th>3</th>\n",
       "      <td>2254736</td>\n",
       "      <td>1</td>\n",
       "      <td>4</td>\n",
       "      <td>4</td>\n",
       "      <td>7</td>\n",
       "      <td>29.0</td>\n",
       "      <td>196</td>\n",
       "      <td>1</td>\n",
       "      <td>1</td>\n",
       "      <td>Soda</td>\n",
       "      <td>...</td>\n",
       "      <td>2/17/2019</td>\n",
       "      <td>3</td>\n",
       "      <td>married</td>\n",
       "      <td>40423</td>\n",
       "      <td>South</td>\n",
       "      <td>high activity customer</td>\n",
       "      <td>beverages</td>\n",
       "      <td>Young Age</td>\n",
       "      <td>Below Average Income</td>\n",
       "      <td>Dependents</td>\n",
       "    </tr>\n",
       "    <tr>\n",
       "      <th>4</th>\n",
       "      <td>431534</td>\n",
       "      <td>1</td>\n",
       "      <td>5</td>\n",
       "      <td>4</td>\n",
       "      <td>15</td>\n",
       "      <td>28.0</td>\n",
       "      <td>196</td>\n",
       "      <td>1</td>\n",
       "      <td>1</td>\n",
       "      <td>Soda</td>\n",
       "      <td>...</td>\n",
       "      <td>2/17/2019</td>\n",
       "      <td>3</td>\n",
       "      <td>married</td>\n",
       "      <td>40423</td>\n",
       "      <td>South</td>\n",
       "      <td>high activity customer</td>\n",
       "      <td>beverages</td>\n",
       "      <td>Young Age</td>\n",
       "      <td>Below Average Income</td>\n",
       "      <td>Dependents</td>\n",
       "    </tr>\n",
       "  </tbody>\n",
       "</table>\n",
       "<p>5 rows × 37 columns</p>\n",
       "</div>"
      ],
      "text/plain": [
       "   order_id user_id  order_number  orders_day_of_week  order_hour_of_day  \\\n",
       "0   2539329       1             1                   2                  8   \n",
       "1   2398795       1             2                   3                  7   \n",
       "2    473747       1             3                   3                 12   \n",
       "3   2254736       1             4                   4                  7   \n",
       "4    431534       1             5                   4                 15   \n",
       "\n",
       "   days_since_last_order  product_id  add_to_cart_order  reordered  \\\n",
       "0                    0.0         196                  1          0   \n",
       "1                   15.0         196                  1          1   \n",
       "2                   21.0         196                  1          1   \n",
       "3                   29.0         196                  1          1   \n",
       "4                   28.0         196                  1          1   \n",
       "\n",
       "  product_name  ...  date_joined  dependents  fam_status income Region  \\\n",
       "0         Soda  ...    2/17/2019           3     married  40423  South   \n",
       "1         Soda  ...    2/17/2019           3     married  40423  South   \n",
       "2         Soda  ...    2/17/2019           3     married  40423  South   \n",
       "3         Soda  ...    2/17/2019           3     married  40423  South   \n",
       "4         Soda  ...    2/17/2019           3     married  40423  South   \n",
       "\n",
       "                 activity department  age_group          income_group  \\\n",
       "0  high activity customer  beverages  Young Age  Below Average Income   \n",
       "1  high activity customer  beverages  Young Age  Below Average Income   \n",
       "2  high activity customer  beverages  Young Age  Below Average Income   \n",
       "3  high activity customer  beverages  Young Age  Below Average Income   \n",
       "4  high activity customer  beverages  Young Age  Below Average Income   \n",
       "\n",
       "  dependent_group  \n",
       "0      Dependents  \n",
       "1      Dependents  \n",
       "2      Dependents  \n",
       "3      Dependents  \n",
       "4      Dependents  \n",
       "\n",
       "[5 rows x 37 columns]"
      ]
     },
     "execution_count": 14,
     "metadata": {},
     "output_type": "execute_result"
    }
   ],
   "source": [
    "df_new.head()"
   ]
  },
  {
   "cell_type": "code",
   "execution_count": 15,
   "id": "312d96cb",
   "metadata": {},
   "outputs": [],
   "source": [
    "#export df \n",
    "df_new.to_pickle(os.path.join(path, '02 Data', 'Prepared Data', 'newest2.pkl'))"
   ]
  },
  {
   "cell_type": "markdown",
   "id": "b21315bd",
   "metadata": {},
   "source": [
    "## 07. Aggregate"
   ]
  },
  {
   "cell_type": "code",
   "execution_count": 16,
   "id": "c63c9012",
   "metadata": {},
   "outputs": [],
   "source": [
    "# import newest data with departments\n",
    "df_new = pd.read_pickle(os.path.join(path, '02 Data', 'Prepared Data', 'newest2.pkl'))"
   ]
  },
  {
   "cell_type": "markdown",
   "id": "d1af4b8e",
   "metadata": {},
   "source": [
    "create customer level profiles"
   ]
  },
  {
   "cell_type": "code",
   "execution_count": 26,
   "id": "1d456f99",
   "metadata": {},
   "outputs": [],
   "source": [
    "#customer profiles for young, old and middle aged parents\n",
    "df_new.loc[(df_new['age_group'] == 'Older Age') & (df_new['dependent_group'] == 'Dependents'), 'parent_profile'] = 'Older Parent'\n",
    "df_new.loc[(df_new['age_group'] == 'Middle Age') & (df_new['dependent_group'] == 'Dependents'), 'parent_profile'] = 'Middle Aged Parent'\n",
    "df_new.loc[(df_new['age_group'] == 'Young Age') & (df_new['dependent_group'] == 'Dependents'), 'parent_profile'] = 'Younger Parent'"
   ]
  },
  {
   "cell_type": "code",
   "execution_count": 27,
   "id": "c95d924a",
   "metadata": {},
   "outputs": [],
   "source": [
    "#customer profiles for young, old and middle aged non parents\n",
    "df_new.loc[(df_new['age_group'] == 'Older Age') & (df_new['dependent_group'] == 'No Dependents'), 'parent_profile'] = 'Older Childless'\n",
    "df_new.loc[(df_new['age_group'] == 'Middle Age') & (df_new['dependent_group'] == 'No Dependents'), 'parent_profile'] = 'Middle Aged Childless'\n",
    "df_new.loc[(df_new['age_group'] == 'Young Age') & (df_new['dependent_group'] == 'No Dependents'), 'parent_profile'] = 'Younger Childless'"
   ]
  },
  {
   "cell_type": "code",
   "execution_count": 28,
   "id": "6da099ab",
   "metadata": {},
   "outputs": [
    {
     "data": {
      "text/plain": [
       "Middle Aged Parent       8734535\n",
       "Older Parent             7929233\n",
       "Younger Parent           6561115\n",
       "Middle Aged Childless    2916720\n",
       "Older Childless          2645271\n",
       "Younger Childless        2177690\n",
       "Name: parent_profile, dtype: int64"
      ]
     },
     "execution_count": 28,
     "metadata": {},
     "output_type": "execute_result"
    }
   ],
   "source": [
    "#checking\n",
    "df_new['parent_profile'].value_counts(dropna=False)"
   ]
  },
  {
   "cell_type": "code",
   "execution_count": 29,
   "id": "4cfedac8",
   "metadata": {},
   "outputs": [
    {
     "data": {
      "text/html": [
       "<div>\n",
       "<style scoped>\n",
       "    .dataframe tbody tr th:only-of-type {\n",
       "        vertical-align: middle;\n",
       "    }\n",
       "\n",
       "    .dataframe tbody tr th {\n",
       "        vertical-align: top;\n",
       "    }\n",
       "\n",
       "    .dataframe thead tr th {\n",
       "        text-align: left;\n",
       "    }\n",
       "\n",
       "    .dataframe thead tr:last-of-type th {\n",
       "        text-align: right;\n",
       "    }\n",
       "</style>\n",
       "<table border=\"1\" class=\"dataframe\">\n",
       "  <thead>\n",
       "    <tr>\n",
       "      <th></th>\n",
       "      <th colspan=\"3\" halign=\"left\">prices</th>\n",
       "    </tr>\n",
       "    <tr>\n",
       "      <th></th>\n",
       "      <th>min</th>\n",
       "      <th>mean</th>\n",
       "      <th>max</th>\n",
       "    </tr>\n",
       "    <tr>\n",
       "      <th>age_group</th>\n",
       "      <th></th>\n",
       "      <th></th>\n",
       "      <th></th>\n",
       "    </tr>\n",
       "  </thead>\n",
       "  <tbody>\n",
       "    <tr>\n",
       "      <th>Middle Age</th>\n",
       "      <td>1.0</td>\n",
       "      <td>7.790941</td>\n",
       "      <td>25.0</td>\n",
       "    </tr>\n",
       "    <tr>\n",
       "      <th>Older Age</th>\n",
       "      <td>1.0</td>\n",
       "      <td>7.795446</td>\n",
       "      <td>25.0</td>\n",
       "    </tr>\n",
       "    <tr>\n",
       "      <th>Young Age</th>\n",
       "      <td>1.0</td>\n",
       "      <td>7.784246</td>\n",
       "      <td>25.0</td>\n",
       "    </tr>\n",
       "  </tbody>\n",
       "</table>\n",
       "</div>"
      ],
      "text/plain": [
       "           prices                \n",
       "              min      mean   max\n",
       "age_group                        \n",
       "Middle Age    1.0  7.790941  25.0\n",
       "Older Age     1.0  7.795446  25.0\n",
       "Young Age     1.0  7.784246  25.0"
      ]
     },
     "execution_count": 29,
     "metadata": {},
     "output_type": "execute_result"
    }
   ],
   "source": [
    "df_new.groupby('age_group').agg({'prices':['min', 'mean', 'max']})"
   ]
  },
  {
   "cell_type": "code",
   "execution_count": 30,
   "id": "8796dba5",
   "metadata": {},
   "outputs": [
    {
     "data": {
      "text/html": [
       "<div>\n",
       "<style scoped>\n",
       "    .dataframe tbody tr th:only-of-type {\n",
       "        vertical-align: middle;\n",
       "    }\n",
       "\n",
       "    .dataframe tbody tr th {\n",
       "        vertical-align: top;\n",
       "    }\n",
       "\n",
       "    .dataframe thead tr th {\n",
       "        text-align: left;\n",
       "    }\n",
       "\n",
       "    .dataframe thead tr:last-of-type th {\n",
       "        text-align: right;\n",
       "    }\n",
       "</style>\n",
       "<table border=\"1\" class=\"dataframe\">\n",
       "  <thead>\n",
       "    <tr>\n",
       "      <th></th>\n",
       "      <th colspan=\"3\" halign=\"left\">prices</th>\n",
       "    </tr>\n",
       "    <tr>\n",
       "      <th></th>\n",
       "      <th>min</th>\n",
       "      <th>mean</th>\n",
       "      <th>max</th>\n",
       "    </tr>\n",
       "    <tr>\n",
       "      <th>parent_profile</th>\n",
       "      <th></th>\n",
       "      <th></th>\n",
       "      <th></th>\n",
       "    </tr>\n",
       "  </thead>\n",
       "  <tbody>\n",
       "    <tr>\n",
       "      <th>Middle Aged Childless</th>\n",
       "      <td>1.0</td>\n",
       "      <td>7.786014</td>\n",
       "      <td>25.0</td>\n",
       "    </tr>\n",
       "    <tr>\n",
       "      <th>Middle Aged Parent</th>\n",
       "      <td>1.0</td>\n",
       "      <td>7.792587</td>\n",
       "      <td>25.0</td>\n",
       "    </tr>\n",
       "    <tr>\n",
       "      <th>Older Childless</th>\n",
       "      <td>1.0</td>\n",
       "      <td>7.801014</td>\n",
       "      <td>25.0</td>\n",
       "    </tr>\n",
       "    <tr>\n",
       "      <th>Older Parent</th>\n",
       "      <td>1.0</td>\n",
       "      <td>7.793589</td>\n",
       "      <td>25.0</td>\n",
       "    </tr>\n",
       "    <tr>\n",
       "      <th>Younger Childless</th>\n",
       "      <td>1.0</td>\n",
       "      <td>7.780360</td>\n",
       "      <td>25.0</td>\n",
       "    </tr>\n",
       "    <tr>\n",
       "      <th>Younger Parent</th>\n",
       "      <td>1.0</td>\n",
       "      <td>7.785536</td>\n",
       "      <td>25.0</td>\n",
       "    </tr>\n",
       "  </tbody>\n",
       "</table>\n",
       "</div>"
      ],
      "text/plain": [
       "                      prices                \n",
       "                         min      mean   max\n",
       "parent_profile                              \n",
       "Middle Aged Childless    1.0  7.786014  25.0\n",
       "Middle Aged Parent       1.0  7.792587  25.0\n",
       "Older Childless          1.0  7.801014  25.0\n",
       "Older Parent             1.0  7.793589  25.0\n",
       "Younger Childless        1.0  7.780360  25.0\n",
       "Younger Parent           1.0  7.785536  25.0"
      ]
     },
     "execution_count": 30,
     "metadata": {},
     "output_type": "execute_result"
    }
   ],
   "source": [
    "df_new.groupby('parent_profile').agg({'prices':['min', 'mean', 'max']})"
   ]
  },
  {
   "cell_type": "code",
   "execution_count": 31,
   "id": "a0652c3b",
   "metadata": {},
   "outputs": [
    {
     "data": {
      "text/html": [
       "<div>\n",
       "<style scoped>\n",
       "    .dataframe tbody tr th:only-of-type {\n",
       "        vertical-align: middle;\n",
       "    }\n",
       "\n",
       "    .dataframe tbody tr th {\n",
       "        vertical-align: top;\n",
       "    }\n",
       "\n",
       "    .dataframe thead tr th {\n",
       "        text-align: left;\n",
       "    }\n",
       "\n",
       "    .dataframe thead tr:last-of-type th {\n",
       "        text-align: right;\n",
       "    }\n",
       "</style>\n",
       "<table border=\"1\" class=\"dataframe\">\n",
       "  <thead>\n",
       "    <tr>\n",
       "      <th></th>\n",
       "      <th colspan=\"3\" halign=\"left\">dependents</th>\n",
       "    </tr>\n",
       "    <tr>\n",
       "      <th></th>\n",
       "      <th>min</th>\n",
       "      <th>mean</th>\n",
       "      <th>max</th>\n",
       "    </tr>\n",
       "    <tr>\n",
       "      <th>fam_status</th>\n",
       "      <th></th>\n",
       "      <th></th>\n",
       "      <th></th>\n",
       "    </tr>\n",
       "  </thead>\n",
       "  <tbody>\n",
       "    <tr>\n",
       "      <th>divorced/widowed</th>\n",
       "      <td>0</td>\n",
       "      <td>0.000000</td>\n",
       "      <td>0</td>\n",
       "    </tr>\n",
       "    <tr>\n",
       "      <th>living with parents and siblings</th>\n",
       "      <td>1</td>\n",
       "      <td>1.986783</td>\n",
       "      <td>3</td>\n",
       "    </tr>\n",
       "    <tr>\n",
       "      <th>married</th>\n",
       "      <td>1</td>\n",
       "      <td>2.003357</td>\n",
       "      <td>3</td>\n",
       "    </tr>\n",
       "    <tr>\n",
       "      <th>single</th>\n",
       "      <td>0</td>\n",
       "      <td>0.000000</td>\n",
       "      <td>0</td>\n",
       "    </tr>\n",
       "  </tbody>\n",
       "</table>\n",
       "</div>"
      ],
      "text/plain": [
       "                                 dependents              \n",
       "                                        min      mean max\n",
       "fam_status                                               \n",
       "divorced/widowed                          0  0.000000   0\n",
       "living with parents and siblings          1  1.986783   3\n",
       "married                                   1  2.003357   3\n",
       "single                                    0  0.000000   0"
      ]
     },
     "execution_count": 31,
     "metadata": {},
     "output_type": "execute_result"
    }
   ],
   "source": [
    "df_new.groupby('fam_status').agg({'dependents':['min', 'mean', 'max']})"
   ]
  },
  {
   "cell_type": "code",
   "execution_count": 32,
   "id": "b2228e2f",
   "metadata": {
    "scrolled": true
   },
   "outputs": [
    {
     "data": {
      "text/html": [
       "<div>\n",
       "<style scoped>\n",
       "    .dataframe tbody tr th:only-of-type {\n",
       "        vertical-align: middle;\n",
       "    }\n",
       "\n",
       "    .dataframe tbody tr th {\n",
       "        vertical-align: top;\n",
       "    }\n",
       "\n",
       "    .dataframe thead tr th {\n",
       "        text-align: left;\n",
       "    }\n",
       "\n",
       "    .dataframe thead tr:last-of-type th {\n",
       "        text-align: right;\n",
       "    }\n",
       "</style>\n",
       "<table border=\"1\" class=\"dataframe\">\n",
       "  <thead>\n",
       "    <tr>\n",
       "      <th></th>\n",
       "      <th colspan=\"3\" halign=\"left\">days_since_last_order</th>\n",
       "    </tr>\n",
       "    <tr>\n",
       "      <th></th>\n",
       "      <th>min</th>\n",
       "      <th>mean</th>\n",
       "      <th>max</th>\n",
       "    </tr>\n",
       "    <tr>\n",
       "      <th>parent_profile</th>\n",
       "      <th></th>\n",
       "      <th></th>\n",
       "      <th></th>\n",
       "    </tr>\n",
       "  </thead>\n",
       "  <tbody>\n",
       "    <tr>\n",
       "      <th>Middle Aged Childless</th>\n",
       "      <td>0.0</td>\n",
       "      <td>10.175382</td>\n",
       "      <td>30.0</td>\n",
       "    </tr>\n",
       "    <tr>\n",
       "      <th>Middle Aged Parent</th>\n",
       "      <td>0.0</td>\n",
       "      <td>10.243772</td>\n",
       "      <td>30.0</td>\n",
       "    </tr>\n",
       "    <tr>\n",
       "      <th>Older Childless</th>\n",
       "      <td>0.0</td>\n",
       "      <td>10.176669</td>\n",
       "      <td>30.0</td>\n",
       "    </tr>\n",
       "    <tr>\n",
       "      <th>Older Parent</th>\n",
       "      <td>0.0</td>\n",
       "      <td>10.233132</td>\n",
       "      <td>30.0</td>\n",
       "    </tr>\n",
       "    <tr>\n",
       "      <th>Younger Childless</th>\n",
       "      <td>0.0</td>\n",
       "      <td>10.309562</td>\n",
       "      <td>30.0</td>\n",
       "    </tr>\n",
       "    <tr>\n",
       "      <th>Younger Parent</th>\n",
       "      <td>0.0</td>\n",
       "      <td>10.228745</td>\n",
       "      <td>30.0</td>\n",
       "    </tr>\n",
       "  </tbody>\n",
       "</table>\n",
       "</div>"
      ],
      "text/plain": [
       "                      days_since_last_order                 \n",
       "                                        min       mean   max\n",
       "parent_profile                                              \n",
       "Middle Aged Childless                   0.0  10.175382  30.0\n",
       "Middle Aged Parent                      0.0  10.243772  30.0\n",
       "Older Childless                         0.0  10.176669  30.0\n",
       "Older Parent                            0.0  10.233132  30.0\n",
       "Younger Childless                       0.0  10.309562  30.0\n",
       "Younger Parent                          0.0  10.228745  30.0"
      ]
     },
     "execution_count": 32,
     "metadata": {},
     "output_type": "execute_result"
    }
   ],
   "source": [
    "df_new.groupby('parent_profile').agg({'days_since_last_order':['min', 'mean', 'max']})"
   ]
  },
  {
   "cell_type": "markdown",
   "id": "dea2b6ea",
   "metadata": {},
   "source": [
    "## 08. & 09. Compare your customer profiles with regions and departments and Visualizations"
   ]
  },
  {
   "cell_type": "code",
   "execution_count": 34,
   "id": "14718b5a",
   "metadata": {},
   "outputs": [],
   "source": [
    "# grouping \n",
    "parent_region = df_new.groupby(['Region', 'parent_profile']).size().unstack(fill_value=0)"
   ]
  },
  {
   "cell_type": "code",
   "execution_count": 35,
   "id": "b59610f4",
   "metadata": {},
   "outputs": [
    {
     "data": {
      "image/png": "[encoded data removed]",
      "text/plain": [
       "<Figure size 432x288 with 1 Axes>"
      ]
     },
     "metadata": {
      "needs_background": "light"
     },
     "output_type": "display_data"
    }
   ],
   "source": [
    "#create bar graph for parent profile and region\n",
    "bar_parent_region = parent_region.plot.bar(stacked = True, title = 'Parent Profile by Region')"
   ]
  },
  {
   "cell_type": "code",
   "execution_count": 36,
   "id": "ea3c3080",
   "metadata": {},
   "outputs": [],
   "source": [
    "#Exporting graph\n",
    "bar_parent_region.figure.savefig(os.path.join(path, '04 Analysis', 'Visualizations', 'bar_parent_region.png'))"
   ]
  },
  {
   "cell_type": "code",
   "execution_count": 39,
   "id": "d077903f",
   "metadata": {},
   "outputs": [],
   "source": [
    "#Grouping departments\n",
    "parent_depts = df_new.groupby(['department', 'parent_profile']).size().unstack(fill_value=0)"
   ]
  },
  {
   "cell_type": "code",
   "execution_count": 40,
   "id": "dac07f5e",
   "metadata": {},
   "outputs": [
    {
     "data": {
      "image/png": "[encoded data removed]",
      "text/plain": [
       "<Figure size 432x288 with 1 Axes>"
      ]
     },
     "metadata": {
      "needs_background": "light"
     },
     "output_type": "display_data"
    }
   ],
   "source": [
    "#stacked bar graph\n",
    "stacked_parent_dept = parent_depts.plot.bar(stacked = True, title = 'Parent Profile by Departments')"
   ]
  },
  {
   "cell_type": "code",
   "execution_count": 41,
   "id": "483cb254",
   "metadata": {},
   "outputs": [],
   "source": [
    "#Exporting graph\n",
    "stacked_parent_dept.figure.savefig(os.path.join(path, '04 Analysis', 'Visualizations', 'stacked_parent_dept.png'))"
   ]
  },
  {
   "cell_type": "code",
   "execution_count": 44,
   "id": "ec846ff0",
   "metadata": {},
   "outputs": [],
   "source": [
    "# grouping\n",
    "region_depts = df_new.groupby(['department', 'Region']).size().unstack(fill_value=0)"
   ]
  },
  {
   "cell_type": "code",
   "execution_count": 45,
   "id": "23fe6edb",
   "metadata": {},
   "outputs": [
    {
     "data": {
      "image/png": "[encoded data removed]",
      "text/plain": [
       "<Figure size 432x288 with 1 Axes>"
      ]
     },
     "metadata": {
      "needs_background": "light"
     },
     "output_type": "display_data"
    }
   ],
   "source": [
    "#stacked bar graph\n",
    "stacked_region_dept = region_depts.plot.bar(stacked = True, title = 'Department by region')"
   ]
  },
  {
   "cell_type": "code",
   "execution_count": 46,
   "id": "c18ff6e7",
   "metadata": {},
   "outputs": [],
   "source": [
    "#Exporting graph\n",
    "stacked_region_dept.figure.savefig(os.path.join(path, '04 Analysis', 'Visualizations', 'stacked_region_dept.png'))"
   ]
  },
  {
   "cell_type": "markdown",
   "id": "ecc1118e",
   "metadata": {},
   "source": [
    "# 10. Export Data"
   ]
  },
  {
   "cell_type": "code",
   "execution_count": null,
   "id": "092f694f",
   "metadata": {},
   "outputs": [],
   "source": [
    "# export df\n",
    "df_new.to_pickle(os.path.join(path, '02 Data', 'Prepared Data', 'newest3.pkl'))"
   ]
  },
  {
   "cell_type": "code",
   "execution_count": null,
   "id": "75f08123",
   "metadata": {},
   "outputs": [],
   "source": []
  }
 ],
 "metadata": {
  "kernelspec": {
   "display_name": "Python 3 (ipykernel)",
   "language": "python",
   "name": "python3"
  },
  "language_info": {
   "codemirror_mode": {
    "name": "ipython",
    "version": 3
   },
   "file_extension": ".py",
   "mimetype": "text/x-python",
   "name": "python",
   "nbconvert_exporter": "python",
   "pygments_lexer": "ipython3",
   "version": "3.9.7"
  }
 },
 "nbformat": 4,
 "nbformat_minor": 5
}
