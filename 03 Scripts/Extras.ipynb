{
 "cells": [
  {
   "cell_type": "code",
   "execution_count": 1,
   "id": "f52c5682",
   "metadata": {},
   "outputs": [],
   "source": [
    "# Import libraries\n",
    "import pandas as pd\n",
    "import numpy as np\n",
    "import os\n",
    "import matplotlib.pyplot as plt\n",
    "import seaborn as sns\n",
    "import scipy"
   ]
  },
  {
   "cell_type": "code",
   "execution_count": 5,
   "id": "bc1ec04a",
   "metadata": {},
   "outputs": [],
   "source": [
    "# Path\n",
    "path =r'/Users/heathervisentin/Desktop/07-2020 Instacart Basket Analysis'"
   ]
  },
  {
   "cell_type": "code",
   "execution_count": 6,
   "id": "26b23628",
   "metadata": {},
   "outputs": [],
   "source": [
    "# Importing Data: customers \n",
    "df= pd.read_pickle(os.path.join(path, '02 Data', 'Prepared Data', 'newest3.pkl'))"
   ]
  },
  {
   "cell_type": "code",
   "execution_count": 5,
   "id": "aaa1b68b",
   "metadata": {},
   "outputs": [
    {
     "data": {
      "text/plain": [
       "(30964564, 39)"
      ]
     },
     "execution_count": 5,
     "metadata": {},
     "output_type": "execute_result"
    }
   ],
   "source": [
    "df.shape"
   ]
  },
  {
   "cell_type": "code",
   "execution_count": 6,
   "id": "981b778a",
   "metadata": {},
   "outputs": [],
   "source": [
    "pd.set_option('display.max_columns', None)"
   ]
  },
  {
   "cell_type": "code",
   "execution_count": 7,
   "id": "ffa2ebd5",
   "metadata": {},
   "outputs": [
    {
     "data": {
      "text/html": [
       "<div>\n",
       "<style scoped>\n",
       "    .dataframe tbody tr th:only-of-type {\n",
       "        vertical-align: middle;\n",
       "    }\n",
       "\n",
       "    .dataframe tbody tr th {\n",
       "        vertical-align: top;\n",
       "    }\n",
       "\n",
       "    .dataframe thead th {\n",
       "        text-align: right;\n",
       "    }\n",
       "</style>\n",
       "<table border=\"1\" class=\"dataframe\">\n",
       "  <thead>\n",
       "    <tr style=\"text-align: right;\">\n",
       "      <th></th>\n",
       "      <th>order_id</th>\n",
       "      <th>user_id</th>\n",
       "      <th>order_number</th>\n",
       "      <th>orders_day_of_week</th>\n",
       "      <th>order_hour_of_day</th>\n",
       "      <th>days_since_last_order</th>\n",
       "      <th>product_id</th>\n",
       "      <th>add_to_cart_order</th>\n",
       "      <th>reordered</th>\n",
       "      <th>product_name</th>\n",
       "      <th>aisle_id</th>\n",
       "      <th>department_id</th>\n",
       "      <th>prices</th>\n",
       "      <th>_merge</th>\n",
       "      <th>busiest_day</th>\n",
       "      <th>price_range_loc</th>\n",
       "      <th>busiest_days</th>\n",
       "      <th>busiest_period_of_day</th>\n",
       "      <th>max_order</th>\n",
       "      <th>loyalty_flag</th>\n",
       "      <th>mean_price</th>\n",
       "      <th>spending_flag</th>\n",
       "      <th>median_days</th>\n",
       "      <th>frequency_flag</th>\n",
       "      <th>Gender</th>\n",
       "      <th>State</th>\n",
       "      <th>Age</th>\n",
       "      <th>date_joined</th>\n",
       "      <th>dependents</th>\n",
       "      <th>fam_status</th>\n",
       "      <th>income</th>\n",
       "      <th>Region</th>\n",
       "      <th>activity</th>\n",
       "      <th>department</th>\n",
       "      <th>age_group</th>\n",
       "      <th>income_group</th>\n",
       "      <th>dependent_group</th>\n",
       "      <th>customer_profile</th>\n",
       "      <th>parent_profile</th>\n",
       "    </tr>\n",
       "  </thead>\n",
       "  <tbody>\n",
       "    <tr>\n",
       "      <th>0</th>\n",
       "      <td>2539329</td>\n",
       "      <td>1</td>\n",
       "      <td>1</td>\n",
       "      <td>2</td>\n",
       "      <td>8</td>\n",
       "      <td>0.0</td>\n",
       "      <td>196</td>\n",
       "      <td>1</td>\n",
       "      <td>0</td>\n",
       "      <td>Soda</td>\n",
       "      <td>77</td>\n",
       "      <td>7</td>\n",
       "      <td>9.0</td>\n",
       "      <td>both</td>\n",
       "      <td>Regularly busy</td>\n",
       "      <td>Mid-range product</td>\n",
       "      <td>Regular Days</td>\n",
       "      <td>Average Orders</td>\n",
       "      <td>10</td>\n",
       "      <td>New customer</td>\n",
       "      <td>6.367797</td>\n",
       "      <td>Low Spender</td>\n",
       "      <td>20.0</td>\n",
       "      <td>Regular customer</td>\n",
       "      <td>Female</td>\n",
       "      <td>Alabama</td>\n",
       "      <td>31</td>\n",
       "      <td>2/17/2019</td>\n",
       "      <td>3</td>\n",
       "      <td>married</td>\n",
       "      <td>40423</td>\n",
       "      <td>South</td>\n",
       "      <td>high activity customer</td>\n",
       "      <td>beverages</td>\n",
       "      <td>Young Age</td>\n",
       "      <td>Below Average Income</td>\n",
       "      <td>Dependents</td>\n",
       "      <td>Younger Parent</td>\n",
       "      <td>Younger Parent</td>\n",
       "    </tr>\n",
       "    <tr>\n",
       "      <th>1</th>\n",
       "      <td>2398795</td>\n",
       "      <td>1</td>\n",
       "      <td>2</td>\n",
       "      <td>3</td>\n",
       "      <td>7</td>\n",
       "      <td>15.0</td>\n",
       "      <td>196</td>\n",
       "      <td>1</td>\n",
       "      <td>1</td>\n",
       "      <td>Soda</td>\n",
       "      <td>77</td>\n",
       "      <td>7</td>\n",
       "      <td>9.0</td>\n",
       "      <td>both</td>\n",
       "      <td>Regularly busy</td>\n",
       "      <td>Mid-range product</td>\n",
       "      <td>Slowest Days</td>\n",
       "      <td>Average Orders</td>\n",
       "      <td>10</td>\n",
       "      <td>New customer</td>\n",
       "      <td>6.367797</td>\n",
       "      <td>Low Spender</td>\n",
       "      <td>20.0</td>\n",
       "      <td>Regular customer</td>\n",
       "      <td>Female</td>\n",
       "      <td>Alabama</td>\n",
       "      <td>31</td>\n",
       "      <td>2/17/2019</td>\n",
       "      <td>3</td>\n",
       "      <td>married</td>\n",
       "      <td>40423</td>\n",
       "      <td>South</td>\n",
       "      <td>high activity customer</td>\n",
       "      <td>beverages</td>\n",
       "      <td>Young Age</td>\n",
       "      <td>Below Average Income</td>\n",
       "      <td>Dependents</td>\n",
       "      <td>Younger Parent</td>\n",
       "      <td>Younger Parent</td>\n",
       "    </tr>\n",
       "    <tr>\n",
       "      <th>2</th>\n",
       "      <td>473747</td>\n",
       "      <td>1</td>\n",
       "      <td>3</td>\n",
       "      <td>3</td>\n",
       "      <td>12</td>\n",
       "      <td>21.0</td>\n",
       "      <td>196</td>\n",
       "      <td>1</td>\n",
       "      <td>1</td>\n",
       "      <td>Soda</td>\n",
       "      <td>77</td>\n",
       "      <td>7</td>\n",
       "      <td>9.0</td>\n",
       "      <td>both</td>\n",
       "      <td>Regularly busy</td>\n",
       "      <td>Mid-range product</td>\n",
       "      <td>Slowest Days</td>\n",
       "      <td>Most Orders</td>\n",
       "      <td>10</td>\n",
       "      <td>New customer</td>\n",
       "      <td>6.367797</td>\n",
       "      <td>Low Spender</td>\n",
       "      <td>20.0</td>\n",
       "      <td>Regular customer</td>\n",
       "      <td>Female</td>\n",
       "      <td>Alabama</td>\n",
       "      <td>31</td>\n",
       "      <td>2/17/2019</td>\n",
       "      <td>3</td>\n",
       "      <td>married</td>\n",
       "      <td>40423</td>\n",
       "      <td>South</td>\n",
       "      <td>high activity customer</td>\n",
       "      <td>beverages</td>\n",
       "      <td>Young Age</td>\n",
       "      <td>Below Average Income</td>\n",
       "      <td>Dependents</td>\n",
       "      <td>Younger Parent</td>\n",
       "      <td>Younger Parent</td>\n",
       "    </tr>\n",
       "    <tr>\n",
       "      <th>3</th>\n",
       "      <td>2254736</td>\n",
       "      <td>1</td>\n",
       "      <td>4</td>\n",
       "      <td>4</td>\n",
       "      <td>7</td>\n",
       "      <td>29.0</td>\n",
       "      <td>196</td>\n",
       "      <td>1</td>\n",
       "      <td>1</td>\n",
       "      <td>Soda</td>\n",
       "      <td>77</td>\n",
       "      <td>7</td>\n",
       "      <td>9.0</td>\n",
       "      <td>both</td>\n",
       "      <td>Least busy</td>\n",
       "      <td>Mid-range product</td>\n",
       "      <td>Slowest Days</td>\n",
       "      <td>Average Orders</td>\n",
       "      <td>10</td>\n",
       "      <td>New customer</td>\n",
       "      <td>6.367797</td>\n",
       "      <td>Low Spender</td>\n",
       "      <td>20.0</td>\n",
       "      <td>Regular customer</td>\n",
       "      <td>Female</td>\n",
       "      <td>Alabama</td>\n",
       "      <td>31</td>\n",
       "      <td>2/17/2019</td>\n",
       "      <td>3</td>\n",
       "      <td>married</td>\n",
       "      <td>40423</td>\n",
       "      <td>South</td>\n",
       "      <td>high activity customer</td>\n",
       "      <td>beverages</td>\n",
       "      <td>Young Age</td>\n",
       "      <td>Below Average Income</td>\n",
       "      <td>Dependents</td>\n",
       "      <td>Younger Parent</td>\n",
       "      <td>Younger Parent</td>\n",
       "    </tr>\n",
       "    <tr>\n",
       "      <th>4</th>\n",
       "      <td>431534</td>\n",
       "      <td>1</td>\n",
       "      <td>5</td>\n",
       "      <td>4</td>\n",
       "      <td>15</td>\n",
       "      <td>28.0</td>\n",
       "      <td>196</td>\n",
       "      <td>1</td>\n",
       "      <td>1</td>\n",
       "      <td>Soda</td>\n",
       "      <td>77</td>\n",
       "      <td>7</td>\n",
       "      <td>9.0</td>\n",
       "      <td>both</td>\n",
       "      <td>Least busy</td>\n",
       "      <td>Mid-range product</td>\n",
       "      <td>Slowest Days</td>\n",
       "      <td>Most Orders</td>\n",
       "      <td>10</td>\n",
       "      <td>New customer</td>\n",
       "      <td>6.367797</td>\n",
       "      <td>Low Spender</td>\n",
       "      <td>20.0</td>\n",
       "      <td>Regular customer</td>\n",
       "      <td>Female</td>\n",
       "      <td>Alabama</td>\n",
       "      <td>31</td>\n",
       "      <td>2/17/2019</td>\n",
       "      <td>3</td>\n",
       "      <td>married</td>\n",
       "      <td>40423</td>\n",
       "      <td>South</td>\n",
       "      <td>high activity customer</td>\n",
       "      <td>beverages</td>\n",
       "      <td>Young Age</td>\n",
       "      <td>Below Average Income</td>\n",
       "      <td>Dependents</td>\n",
       "      <td>Younger Parent</td>\n",
       "      <td>Younger Parent</td>\n",
       "    </tr>\n",
       "  </tbody>\n",
       "</table>\n",
       "</div>"
      ],
      "text/plain": [
       "   order_id user_id  order_number  orders_day_of_week  order_hour_of_day  \\\n",
       "0   2539329       1             1                   2                  8   \n",
       "1   2398795       1             2                   3                  7   \n",
       "2    473747       1             3                   3                 12   \n",
       "3   2254736       1             4                   4                  7   \n",
       "4    431534       1             5                   4                 15   \n",
       "\n",
       "   days_since_last_order  product_id  add_to_cart_order  reordered  \\\n",
       "0                    0.0         196                  1          0   \n",
       "1                   15.0         196                  1          1   \n",
       "2                   21.0         196                  1          1   \n",
       "3                   29.0         196                  1          1   \n",
       "4                   28.0         196                  1          1   \n",
       "\n",
       "  product_name  aisle_id  department_id  prices _merge     busiest_day  \\\n",
       "0         Soda        77              7     9.0   both  Regularly busy   \n",
       "1         Soda        77              7     9.0   both  Regularly busy   \n",
       "2         Soda        77              7     9.0   both  Regularly busy   \n",
       "3         Soda        77              7     9.0   both      Least busy   \n",
       "4         Soda        77              7     9.0   both      Least busy   \n",
       "\n",
       "     price_range_loc  busiest_days busiest_period_of_day  max_order  \\\n",
       "0  Mid-range product  Regular Days        Average Orders         10   \n",
       "1  Mid-range product  Slowest Days        Average Orders         10   \n",
       "2  Mid-range product  Slowest Days           Most Orders         10   \n",
       "3  Mid-range product  Slowest Days        Average Orders         10   \n",
       "4  Mid-range product  Slowest Days           Most Orders         10   \n",
       "\n",
       "   loyalty_flag  mean_price spending_flag  median_days    frequency_flag  \\\n",
       "0  New customer    6.367797   Low Spender         20.0  Regular customer   \n",
       "1  New customer    6.367797   Low Spender         20.0  Regular customer   \n",
       "2  New customer    6.367797   Low Spender         20.0  Regular customer   \n",
       "3  New customer    6.367797   Low Spender         20.0  Regular customer   \n",
       "4  New customer    6.367797   Low Spender         20.0  Regular customer   \n",
       "\n",
       "   Gender    State  Age date_joined  dependents fam_status  income Region  \\\n",
       "0  Female  Alabama   31   2/17/2019           3    married   40423  South   \n",
       "1  Female  Alabama   31   2/17/2019           3    married   40423  South   \n",
       "2  Female  Alabama   31   2/17/2019           3    married   40423  South   \n",
       "3  Female  Alabama   31   2/17/2019           3    married   40423  South   \n",
       "4  Female  Alabama   31   2/17/2019           3    married   40423  South   \n",
       "\n",
       "                 activity department  age_group          income_group  \\\n",
       "0  high activity customer  beverages  Young Age  Below Average Income   \n",
       "1  high activity customer  beverages  Young Age  Below Average Income   \n",
       "2  high activity customer  beverages  Young Age  Below Average Income   \n",
       "3  high activity customer  beverages  Young Age  Below Average Income   \n",
       "4  high activity customer  beverages  Young Age  Below Average Income   \n",
       "\n",
       "  dependent_group customer_profile  parent_profile  \n",
       "0      Dependents   Younger Parent  Younger Parent  \n",
       "1      Dependents   Younger Parent  Younger Parent  \n",
       "2      Dependents   Younger Parent  Younger Parent  \n",
       "3      Dependents   Younger Parent  Younger Parent  \n",
       "4      Dependents   Younger Parent  Younger Parent  "
      ]
     },
     "execution_count": 7,
     "metadata": {},
     "output_type": "execute_result"
    }
   ],
   "source": [
    "df.head()"
   ]
  },
  {
   "cell_type": "code",
   "execution_count": 8,
   "id": "d507e582",
   "metadata": {},
   "outputs": [
    {
     "data": {
      "text/plain": [
       "NaN                   20164567\n",
       "Low-range product      9674840\n",
       "Mid-range product       727204\n",
       "High-range product      397953\n",
       "Name: price_range_loc, dtype: int64"
      ]
     },
     "execution_count": 8,
     "metadata": {},
     "output_type": "execute_result"
    }
   ],
   "source": [
    "df['price_range_loc'].value_counts(dropna = False)"
   ]
  },
  {
   "cell_type": "code",
   "execution_count": 10,
   "id": "0dfb924d",
   "metadata": {},
   "outputs": [
    {
     "data": {
      "text/plain": [
       "0           False\n",
       "1           False\n",
       "2           False\n",
       "3           False\n",
       "4           False\n",
       "            ...  \n",
       "30964559     True\n",
       "30964560     True\n",
       "30964561     True\n",
       "30964562     True\n",
       "30964563     True\n",
       "Name: price_range_loc, Length: 30964564, dtype: bool"
      ]
     },
     "execution_count": 10,
     "metadata": {},
     "output_type": "execute_result"
    }
   ],
   "source": [
    "df['price_range_loc'].isnull()"
   ]
  },
  {
   "cell_type": "code",
   "execution_count": 11,
   "id": "79b4f0d8",
   "metadata": {},
   "outputs": [
    {
     "data": {
      "text/html": [
       "<div>\n",
       "<style scoped>\n",
       "    .dataframe tbody tr th:only-of-type {\n",
       "        vertical-align: middle;\n",
       "    }\n",
       "\n",
       "    .dataframe tbody tr th {\n",
       "        vertical-align: top;\n",
       "    }\n",
       "\n",
       "    .dataframe thead th {\n",
       "        text-align: right;\n",
       "    }\n",
       "</style>\n",
       "<table border=\"1\" class=\"dataframe\">\n",
       "  <thead>\n",
       "    <tr style=\"text-align: right;\">\n",
       "      <th></th>\n",
       "      <th>order_id</th>\n",
       "      <th>user_id</th>\n",
       "      <th>order_number</th>\n",
       "      <th>orders_day_of_week</th>\n",
       "      <th>order_hour_of_day</th>\n",
       "      <th>days_since_last_order</th>\n",
       "      <th>product_id</th>\n",
       "      <th>add_to_cart_order</th>\n",
       "      <th>reordered</th>\n",
       "      <th>product_name</th>\n",
       "      <th>aisle_id</th>\n",
       "      <th>department_id</th>\n",
       "      <th>prices</th>\n",
       "      <th>_merge</th>\n",
       "      <th>busiest_day</th>\n",
       "      <th>price_range_loc</th>\n",
       "      <th>busiest_days</th>\n",
       "      <th>busiest_period_of_day</th>\n",
       "      <th>max_order</th>\n",
       "      <th>loyalty_flag</th>\n",
       "      <th>mean_price</th>\n",
       "      <th>spending_flag</th>\n",
       "      <th>median_days</th>\n",
       "      <th>frequency_flag</th>\n",
       "      <th>Gender</th>\n",
       "      <th>State</th>\n",
       "      <th>Age</th>\n",
       "      <th>date_joined</th>\n",
       "      <th>dependents</th>\n",
       "      <th>fam_status</th>\n",
       "      <th>income</th>\n",
       "      <th>Region</th>\n",
       "      <th>activity</th>\n",
       "      <th>department</th>\n",
       "      <th>age_group</th>\n",
       "      <th>income_group</th>\n",
       "      <th>dependent_group</th>\n",
       "      <th>customer_profile</th>\n",
       "      <th>parent_profile</th>\n",
       "    </tr>\n",
       "  </thead>\n",
       "  <tbody>\n",
       "    <tr>\n",
       "      <th>30964559</th>\n",
       "      <td>525976</td>\n",
       "      <td>58201</td>\n",
       "      <td>24</td>\n",
       "      <td>6</td>\n",
       "      <td>16</td>\n",
       "      <td>3.0</td>\n",
       "      <td>5161</td>\n",
       "      <td>1</td>\n",
       "      <td>1</td>\n",
       "      <td>Dried Mango</td>\n",
       "      <td>18</td>\n",
       "      <td>10</td>\n",
       "      <td>6.1</td>\n",
       "      <td>both</td>\n",
       "      <td>Regularly busy</td>\n",
       "      <td>NaN</td>\n",
       "      <td>Regular Days</td>\n",
       "      <td>Most Orders</td>\n",
       "      <td>28</td>\n",
       "      <td>Regular customer</td>\n",
       "      <td>7.692105</td>\n",
       "      <td>Low Spender</td>\n",
       "      <td>11.0</td>\n",
       "      <td>Regular customer</td>\n",
       "      <td>Male</td>\n",
       "      <td>Florida</td>\n",
       "      <td>75</td>\n",
       "      <td>2/8/2019</td>\n",
       "      <td>2</td>\n",
       "      <td>married</td>\n",
       "      <td>138066</td>\n",
       "      <td>South</td>\n",
       "      <td>high activity customer</td>\n",
       "      <td>bulk</td>\n",
       "      <td>Older Age</td>\n",
       "      <td>Above Average Income</td>\n",
       "      <td>Dependents</td>\n",
       "      <td>Older Parent</td>\n",
       "      <td>Older Parent</td>\n",
       "    </tr>\n",
       "    <tr>\n",
       "      <th>30964560</th>\n",
       "      <td>758290</td>\n",
       "      <td>58201</td>\n",
       "      <td>26</td>\n",
       "      <td>0</td>\n",
       "      <td>12</td>\n",
       "      <td>9.0</td>\n",
       "      <td>5161</td>\n",
       "      <td>1</td>\n",
       "      <td>1</td>\n",
       "      <td>Dried Mango</td>\n",
       "      <td>18</td>\n",
       "      <td>10</td>\n",
       "      <td>6.1</td>\n",
       "      <td>both</td>\n",
       "      <td>Busiest day</td>\n",
       "      <td>NaN</td>\n",
       "      <td>Busiest Days</td>\n",
       "      <td>Most Orders</td>\n",
       "      <td>28</td>\n",
       "      <td>Regular customer</td>\n",
       "      <td>7.692105</td>\n",
       "      <td>Low Spender</td>\n",
       "      <td>11.0</td>\n",
       "      <td>Regular customer</td>\n",
       "      <td>Male</td>\n",
       "      <td>Florida</td>\n",
       "      <td>75</td>\n",
       "      <td>2/8/2019</td>\n",
       "      <td>2</td>\n",
       "      <td>married</td>\n",
       "      <td>138066</td>\n",
       "      <td>South</td>\n",
       "      <td>high activity customer</td>\n",
       "      <td>bulk</td>\n",
       "      <td>Older Age</td>\n",
       "      <td>Above Average Income</td>\n",
       "      <td>Dependents</td>\n",
       "      <td>Older Parent</td>\n",
       "      <td>Older Parent</td>\n",
       "    </tr>\n",
       "    <tr>\n",
       "      <th>30964561</th>\n",
       "      <td>460711</td>\n",
       "      <td>58201</td>\n",
       "      <td>27</td>\n",
       "      <td>6</td>\n",
       "      <td>9</td>\n",
       "      <td>13.0</td>\n",
       "      <td>5161</td>\n",
       "      <td>1</td>\n",
       "      <td>1</td>\n",
       "      <td>Dried Mango</td>\n",
       "      <td>18</td>\n",
       "      <td>10</td>\n",
       "      <td>6.1</td>\n",
       "      <td>both</td>\n",
       "      <td>Regularly busy</td>\n",
       "      <td>NaN</td>\n",
       "      <td>Regular Days</td>\n",
       "      <td>Most Orders</td>\n",
       "      <td>28</td>\n",
       "      <td>Regular customer</td>\n",
       "      <td>7.692105</td>\n",
       "      <td>Low Spender</td>\n",
       "      <td>11.0</td>\n",
       "      <td>Regular customer</td>\n",
       "      <td>Male</td>\n",
       "      <td>Florida</td>\n",
       "      <td>75</td>\n",
       "      <td>2/8/2019</td>\n",
       "      <td>2</td>\n",
       "      <td>married</td>\n",
       "      <td>138066</td>\n",
       "      <td>South</td>\n",
       "      <td>high activity customer</td>\n",
       "      <td>bulk</td>\n",
       "      <td>Older Age</td>\n",
       "      <td>Above Average Income</td>\n",
       "      <td>Dependents</td>\n",
       "      <td>Older Parent</td>\n",
       "      <td>Older Parent</td>\n",
       "    </tr>\n",
       "    <tr>\n",
       "      <th>30964562</th>\n",
       "      <td>1605789</td>\n",
       "      <td>58201</td>\n",
       "      <td>28</td>\n",
       "      <td>5</td>\n",
       "      <td>7</td>\n",
       "      <td>27.0</td>\n",
       "      <td>5161</td>\n",
       "      <td>1</td>\n",
       "      <td>1</td>\n",
       "      <td>Dried Mango</td>\n",
       "      <td>18</td>\n",
       "      <td>10</td>\n",
       "      <td>6.1</td>\n",
       "      <td>both</td>\n",
       "      <td>Regularly busy</td>\n",
       "      <td>NaN</td>\n",
       "      <td>Regular Days</td>\n",
       "      <td>Average Orders</td>\n",
       "      <td>28</td>\n",
       "      <td>Regular customer</td>\n",
       "      <td>7.692105</td>\n",
       "      <td>Low Spender</td>\n",
       "      <td>11.0</td>\n",
       "      <td>Regular customer</td>\n",
       "      <td>Male</td>\n",
       "      <td>Florida</td>\n",
       "      <td>75</td>\n",
       "      <td>2/8/2019</td>\n",
       "      <td>2</td>\n",
       "      <td>married</td>\n",
       "      <td>138066</td>\n",
       "      <td>South</td>\n",
       "      <td>high activity customer</td>\n",
       "      <td>bulk</td>\n",
       "      <td>Older Age</td>\n",
       "      <td>Above Average Income</td>\n",
       "      <td>Dependents</td>\n",
       "      <td>Older Parent</td>\n",
       "      <td>Older Parent</td>\n",
       "    </tr>\n",
       "    <tr>\n",
       "      <th>30964563</th>\n",
       "      <td>1565024</td>\n",
       "      <td>152886</td>\n",
       "      <td>2</td>\n",
       "      <td>1</td>\n",
       "      <td>9</td>\n",
       "      <td>30.0</td>\n",
       "      <td>1000</td>\n",
       "      <td>3</td>\n",
       "      <td>0</td>\n",
       "      <td>Apricots</td>\n",
       "      <td>18</td>\n",
       "      <td>10</td>\n",
       "      <td>12.9</td>\n",
       "      <td>both</td>\n",
       "      <td>Regularly busy</td>\n",
       "      <td>NaN</td>\n",
       "      <td>Busiest Days</td>\n",
       "      <td>Most Orders</td>\n",
       "      <td>13</td>\n",
       "      <td>Regular customer</td>\n",
       "      <td>6.811111</td>\n",
       "      <td>Low Spender</td>\n",
       "      <td>30.0</td>\n",
       "      <td>Non-frequent customer</td>\n",
       "      <td>Male</td>\n",
       "      <td>Pennsylvania</td>\n",
       "      <td>45</td>\n",
       "      <td>7/9/2017</td>\n",
       "      <td>1</td>\n",
       "      <td>married</td>\n",
       "      <td>41662</td>\n",
       "      <td>Northeast</td>\n",
       "      <td>high activity customer</td>\n",
       "      <td>bulk</td>\n",
       "      <td>Middle Age</td>\n",
       "      <td>Below Average Income</td>\n",
       "      <td>Dependents</td>\n",
       "      <td>Middle Aged Parent</td>\n",
       "      <td>Middle Aged Parent</td>\n",
       "    </tr>\n",
       "  </tbody>\n",
       "</table>\n",
       "</div>"
      ],
      "text/plain": [
       "          order_id user_id  order_number  orders_day_of_week  \\\n",
       "30964559    525976   58201            24                   6   \n",
       "30964560    758290   58201            26                   0   \n",
       "30964561    460711   58201            27                   6   \n",
       "30964562   1605789   58201            28                   5   \n",
       "30964563   1565024  152886             2                   1   \n",
       "\n",
       "          order_hour_of_day  days_since_last_order  product_id  \\\n",
       "30964559                 16                    3.0        5161   \n",
       "30964560                 12                    9.0        5161   \n",
       "30964561                  9                   13.0        5161   \n",
       "30964562                  7                   27.0        5161   \n",
       "30964563                  9                   30.0        1000   \n",
       "\n",
       "          add_to_cart_order  reordered product_name  aisle_id  department_id  \\\n",
       "30964559                  1          1  Dried Mango        18             10   \n",
       "30964560                  1          1  Dried Mango        18             10   \n",
       "30964561                  1          1  Dried Mango        18             10   \n",
       "30964562                  1          1  Dried Mango        18             10   \n",
       "30964563                  3          0     Apricots        18             10   \n",
       "\n",
       "          prices _merge     busiest_day price_range_loc  busiest_days  \\\n",
       "30964559     6.1   both  Regularly busy             NaN  Regular Days   \n",
       "30964560     6.1   both     Busiest day             NaN  Busiest Days   \n",
       "30964561     6.1   both  Regularly busy             NaN  Regular Days   \n",
       "30964562     6.1   both  Regularly busy             NaN  Regular Days   \n",
       "30964563    12.9   both  Regularly busy             NaN  Busiest Days   \n",
       "\n",
       "         busiest_period_of_day  max_order      loyalty_flag  mean_price  \\\n",
       "30964559           Most Orders         28  Regular customer    7.692105   \n",
       "30964560           Most Orders         28  Regular customer    7.692105   \n",
       "30964561           Most Orders         28  Regular customer    7.692105   \n",
       "30964562        Average Orders         28  Regular customer    7.692105   \n",
       "30964563           Most Orders         13  Regular customer    6.811111   \n",
       "\n",
       "         spending_flag  median_days         frequency_flag Gender  \\\n",
       "30964559   Low Spender         11.0       Regular customer   Male   \n",
       "30964560   Low Spender         11.0       Regular customer   Male   \n",
       "30964561   Low Spender         11.0       Regular customer   Male   \n",
       "30964562   Low Spender         11.0       Regular customer   Male   \n",
       "30964563   Low Spender         30.0  Non-frequent customer   Male   \n",
       "\n",
       "                 State  Age date_joined  dependents fam_status  income  \\\n",
       "30964559       Florida   75    2/8/2019           2    married  138066   \n",
       "30964560       Florida   75    2/8/2019           2    married  138066   \n",
       "30964561       Florida   75    2/8/2019           2    married  138066   \n",
       "30964562       Florida   75    2/8/2019           2    married  138066   \n",
       "30964563  Pennsylvania   45    7/9/2017           1    married   41662   \n",
       "\n",
       "             Region                activity department   age_group  \\\n",
       "30964559      South  high activity customer       bulk   Older Age   \n",
       "30964560      South  high activity customer       bulk   Older Age   \n",
       "30964561      South  high activity customer       bulk   Older Age   \n",
       "30964562      South  high activity customer       bulk   Older Age   \n",
       "30964563  Northeast  high activity customer       bulk  Middle Age   \n",
       "\n",
       "                  income_group dependent_group    customer_profile  \\\n",
       "30964559  Above Average Income      Dependents        Older Parent   \n",
       "30964560  Above Average Income      Dependents        Older Parent   \n",
       "30964561  Above Average Income      Dependents        Older Parent   \n",
       "30964562  Above Average Income      Dependents        Older Parent   \n",
       "30964563  Below Average Income      Dependents  Middle Aged Parent   \n",
       "\n",
       "              parent_profile  \n",
       "30964559        Older Parent  \n",
       "30964560        Older Parent  \n",
       "30964561        Older Parent  \n",
       "30964562        Older Parent  \n",
       "30964563  Middle Aged Parent  "
      ]
     },
     "execution_count": 11,
     "metadata": {},
     "output_type": "execute_result"
    }
   ],
   "source": [
    "df.tail()"
   ]
  },
  {
   "cell_type": "code",
   "execution_count": 12,
   "id": "cff67b54",
   "metadata": {},
   "outputs": [],
   "source": [
    "df.loc[df['prices'] > 15, 'price_range_loc'] = 'High-range product'"
   ]
  },
  {
   "cell_type": "code",
   "execution_count": 13,
   "id": "ca13418b",
   "metadata": {},
   "outputs": [],
   "source": [
    "df.loc[(df['prices'] <= 15) & (df['prices'] > 5), 'price_range_loc'] = 'Mid-range product' "
   ]
  },
  {
   "cell_type": "code",
   "execution_count": 14,
   "id": "fc7a3eff",
   "metadata": {},
   "outputs": [],
   "source": [
    "df.loc[df['prices'] <= 5, 'price_range_loc'] = 'Low-range product'"
   ]
  },
  {
   "cell_type": "code",
   "execution_count": 15,
   "id": "978ad0d6",
   "metadata": {},
   "outputs": [
    {
     "data": {
      "text/plain": [
       "Mid-range product     20891771\n",
       "Low-range product      9674840\n",
       "High-range product      397953\n",
       "Name: price_range_loc, dtype: int64"
      ]
     },
     "execution_count": 15,
     "metadata": {},
     "output_type": "execute_result"
    }
   ],
   "source": [
    "df['price_range_loc'].value_counts(dropna = False)"
   ]
  },
  {
   "cell_type": "code",
   "execution_count": 16,
   "id": "40a62ec4",
   "metadata": {},
   "outputs": [],
   "source": [
    "df.to_pickle(os.path.join(path, '02 Data','Prepared Data', 'newest4.pkl'))"
   ]
  },
  {
   "cell_type": "code",
   "execution_count": 17,
   "id": "90c372d2",
   "metadata": {},
   "outputs": [],
   "source": [
    "df= pd.read_pickle(os.path.join(path, '02 Data', 'Prepared Data', 'newest4.pkl'))"
   ]
  },
  {
   "cell_type": "code",
   "execution_count": 18,
   "id": "c539e656",
   "metadata": {},
   "outputs": [
    {
     "data": {
      "text/html": [
       "<div>\n",
       "<style scoped>\n",
       "    .dataframe tbody tr th:only-of-type {\n",
       "        vertical-align: middle;\n",
       "    }\n",
       "\n",
       "    .dataframe tbody tr th {\n",
       "        vertical-align: top;\n",
       "    }\n",
       "\n",
       "    .dataframe thead th {\n",
       "        text-align: right;\n",
       "    }\n",
       "</style>\n",
       "<table border=\"1\" class=\"dataframe\">\n",
       "  <thead>\n",
       "    <tr style=\"text-align: right;\">\n",
       "      <th></th>\n",
       "      <th>order_id</th>\n",
       "      <th>user_id</th>\n",
       "      <th>order_number</th>\n",
       "      <th>orders_day_of_week</th>\n",
       "      <th>order_hour_of_day</th>\n",
       "      <th>days_since_last_order</th>\n",
       "      <th>product_id</th>\n",
       "      <th>add_to_cart_order</th>\n",
       "      <th>reordered</th>\n",
       "      <th>product_name</th>\n",
       "      <th>aisle_id</th>\n",
       "      <th>department_id</th>\n",
       "      <th>prices</th>\n",
       "      <th>_merge</th>\n",
       "      <th>busiest_day</th>\n",
       "      <th>price_range_loc</th>\n",
       "      <th>busiest_days</th>\n",
       "      <th>busiest_period_of_day</th>\n",
       "      <th>max_order</th>\n",
       "      <th>loyalty_flag</th>\n",
       "      <th>mean_price</th>\n",
       "      <th>spending_flag</th>\n",
       "      <th>median_days</th>\n",
       "      <th>frequency_flag</th>\n",
       "      <th>Gender</th>\n",
       "      <th>State</th>\n",
       "      <th>Age</th>\n",
       "      <th>date_joined</th>\n",
       "      <th>dependents</th>\n",
       "      <th>fam_status</th>\n",
       "      <th>income</th>\n",
       "      <th>Region</th>\n",
       "      <th>activity</th>\n",
       "      <th>department</th>\n",
       "      <th>age_group</th>\n",
       "      <th>income_group</th>\n",
       "      <th>dependent_group</th>\n",
       "      <th>customer_profile</th>\n",
       "      <th>parent_profile</th>\n",
       "    </tr>\n",
       "  </thead>\n",
       "  <tbody>\n",
       "    <tr>\n",
       "      <th>0</th>\n",
       "      <td>2539329</td>\n",
       "      <td>1</td>\n",
       "      <td>1</td>\n",
       "      <td>2</td>\n",
       "      <td>8</td>\n",
       "      <td>0.0</td>\n",
       "      <td>196</td>\n",
       "      <td>1</td>\n",
       "      <td>0</td>\n",
       "      <td>Soda</td>\n",
       "      <td>77</td>\n",
       "      <td>7</td>\n",
       "      <td>9.0</td>\n",
       "      <td>both</td>\n",
       "      <td>Regularly busy</td>\n",
       "      <td>Mid-range product</td>\n",
       "      <td>Regular Days</td>\n",
       "      <td>Average Orders</td>\n",
       "      <td>10</td>\n",
       "      <td>New customer</td>\n",
       "      <td>6.367797</td>\n",
       "      <td>Low Spender</td>\n",
       "      <td>20.0</td>\n",
       "      <td>Regular customer</td>\n",
       "      <td>Female</td>\n",
       "      <td>Alabama</td>\n",
       "      <td>31</td>\n",
       "      <td>2/17/2019</td>\n",
       "      <td>3</td>\n",
       "      <td>married</td>\n",
       "      <td>40423</td>\n",
       "      <td>South</td>\n",
       "      <td>high activity customer</td>\n",
       "      <td>beverages</td>\n",
       "      <td>Young Age</td>\n",
       "      <td>Below Average Income</td>\n",
       "      <td>Dependents</td>\n",
       "      <td>Younger Parent</td>\n",
       "      <td>Younger Parent</td>\n",
       "    </tr>\n",
       "    <tr>\n",
       "      <th>1</th>\n",
       "      <td>2398795</td>\n",
       "      <td>1</td>\n",
       "      <td>2</td>\n",
       "      <td>3</td>\n",
       "      <td>7</td>\n",
       "      <td>15.0</td>\n",
       "      <td>196</td>\n",
       "      <td>1</td>\n",
       "      <td>1</td>\n",
       "      <td>Soda</td>\n",
       "      <td>77</td>\n",
       "      <td>7</td>\n",
       "      <td>9.0</td>\n",
       "      <td>both</td>\n",
       "      <td>Regularly busy</td>\n",
       "      <td>Mid-range product</td>\n",
       "      <td>Slowest Days</td>\n",
       "      <td>Average Orders</td>\n",
       "      <td>10</td>\n",
       "      <td>New customer</td>\n",
       "      <td>6.367797</td>\n",
       "      <td>Low Spender</td>\n",
       "      <td>20.0</td>\n",
       "      <td>Regular customer</td>\n",
       "      <td>Female</td>\n",
       "      <td>Alabama</td>\n",
       "      <td>31</td>\n",
       "      <td>2/17/2019</td>\n",
       "      <td>3</td>\n",
       "      <td>married</td>\n",
       "      <td>40423</td>\n",
       "      <td>South</td>\n",
       "      <td>high activity customer</td>\n",
       "      <td>beverages</td>\n",
       "      <td>Young Age</td>\n",
       "      <td>Below Average Income</td>\n",
       "      <td>Dependents</td>\n",
       "      <td>Younger Parent</td>\n",
       "      <td>Younger Parent</td>\n",
       "    </tr>\n",
       "    <tr>\n",
       "      <th>2</th>\n",
       "      <td>473747</td>\n",
       "      <td>1</td>\n",
       "      <td>3</td>\n",
       "      <td>3</td>\n",
       "      <td>12</td>\n",
       "      <td>21.0</td>\n",
       "      <td>196</td>\n",
       "      <td>1</td>\n",
       "      <td>1</td>\n",
       "      <td>Soda</td>\n",
       "      <td>77</td>\n",
       "      <td>7</td>\n",
       "      <td>9.0</td>\n",
       "      <td>both</td>\n",
       "      <td>Regularly busy</td>\n",
       "      <td>Mid-range product</td>\n",
       "      <td>Slowest Days</td>\n",
       "      <td>Most Orders</td>\n",
       "      <td>10</td>\n",
       "      <td>New customer</td>\n",
       "      <td>6.367797</td>\n",
       "      <td>Low Spender</td>\n",
       "      <td>20.0</td>\n",
       "      <td>Regular customer</td>\n",
       "      <td>Female</td>\n",
       "      <td>Alabama</td>\n",
       "      <td>31</td>\n",
       "      <td>2/17/2019</td>\n",
       "      <td>3</td>\n",
       "      <td>married</td>\n",
       "      <td>40423</td>\n",
       "      <td>South</td>\n",
       "      <td>high activity customer</td>\n",
       "      <td>beverages</td>\n",
       "      <td>Young Age</td>\n",
       "      <td>Below Average Income</td>\n",
       "      <td>Dependents</td>\n",
       "      <td>Younger Parent</td>\n",
       "      <td>Younger Parent</td>\n",
       "    </tr>\n",
       "    <tr>\n",
       "      <th>3</th>\n",
       "      <td>2254736</td>\n",
       "      <td>1</td>\n",
       "      <td>4</td>\n",
       "      <td>4</td>\n",
       "      <td>7</td>\n",
       "      <td>29.0</td>\n",
       "      <td>196</td>\n",
       "      <td>1</td>\n",
       "      <td>1</td>\n",
       "      <td>Soda</td>\n",
       "      <td>77</td>\n",
       "      <td>7</td>\n",
       "      <td>9.0</td>\n",
       "      <td>both</td>\n",
       "      <td>Least busy</td>\n",
       "      <td>Mid-range product</td>\n",
       "      <td>Slowest Days</td>\n",
       "      <td>Average Orders</td>\n",
       "      <td>10</td>\n",
       "      <td>New customer</td>\n",
       "      <td>6.367797</td>\n",
       "      <td>Low Spender</td>\n",
       "      <td>20.0</td>\n",
       "      <td>Regular customer</td>\n",
       "      <td>Female</td>\n",
       "      <td>Alabama</td>\n",
       "      <td>31</td>\n",
       "      <td>2/17/2019</td>\n",
       "      <td>3</td>\n",
       "      <td>married</td>\n",
       "      <td>40423</td>\n",
       "      <td>South</td>\n",
       "      <td>high activity customer</td>\n",
       "      <td>beverages</td>\n",
       "      <td>Young Age</td>\n",
       "      <td>Below Average Income</td>\n",
       "      <td>Dependents</td>\n",
       "      <td>Younger Parent</td>\n",
       "      <td>Younger Parent</td>\n",
       "    </tr>\n",
       "    <tr>\n",
       "      <th>4</th>\n",
       "      <td>431534</td>\n",
       "      <td>1</td>\n",
       "      <td>5</td>\n",
       "      <td>4</td>\n",
       "      <td>15</td>\n",
       "      <td>28.0</td>\n",
       "      <td>196</td>\n",
       "      <td>1</td>\n",
       "      <td>1</td>\n",
       "      <td>Soda</td>\n",
       "      <td>77</td>\n",
       "      <td>7</td>\n",
       "      <td>9.0</td>\n",
       "      <td>both</td>\n",
       "      <td>Least busy</td>\n",
       "      <td>Mid-range product</td>\n",
       "      <td>Slowest Days</td>\n",
       "      <td>Most Orders</td>\n",
       "      <td>10</td>\n",
       "      <td>New customer</td>\n",
       "      <td>6.367797</td>\n",
       "      <td>Low Spender</td>\n",
       "      <td>20.0</td>\n",
       "      <td>Regular customer</td>\n",
       "      <td>Female</td>\n",
       "      <td>Alabama</td>\n",
       "      <td>31</td>\n",
       "      <td>2/17/2019</td>\n",
       "      <td>3</td>\n",
       "      <td>married</td>\n",
       "      <td>40423</td>\n",
       "      <td>South</td>\n",
       "      <td>high activity customer</td>\n",
       "      <td>beverages</td>\n",
       "      <td>Young Age</td>\n",
       "      <td>Below Average Income</td>\n",
       "      <td>Dependents</td>\n",
       "      <td>Younger Parent</td>\n",
       "      <td>Younger Parent</td>\n",
       "    </tr>\n",
       "  </tbody>\n",
       "</table>\n",
       "</div>"
      ],
      "text/plain": [
       "   order_id user_id  order_number  orders_day_of_week  order_hour_of_day  \\\n",
       "0   2539329       1             1                   2                  8   \n",
       "1   2398795       1             2                   3                  7   \n",
       "2    473747       1             3                   3                 12   \n",
       "3   2254736       1             4                   4                  7   \n",
       "4    431534       1             5                   4                 15   \n",
       "\n",
       "   days_since_last_order  product_id  add_to_cart_order  reordered  \\\n",
       "0                    0.0         196                  1          0   \n",
       "1                   15.0         196                  1          1   \n",
       "2                   21.0         196                  1          1   \n",
       "3                   29.0         196                  1          1   \n",
       "4                   28.0         196                  1          1   \n",
       "\n",
       "  product_name  aisle_id  department_id  prices _merge     busiest_day  \\\n",
       "0         Soda        77              7     9.0   both  Regularly busy   \n",
       "1         Soda        77              7     9.0   both  Regularly busy   \n",
       "2         Soda        77              7     9.0   both  Regularly busy   \n",
       "3         Soda        77              7     9.0   both      Least busy   \n",
       "4         Soda        77              7     9.0   both      Least busy   \n",
       "\n",
       "     price_range_loc  busiest_days busiest_period_of_day  max_order  \\\n",
       "0  Mid-range product  Regular Days        Average Orders         10   \n",
       "1  Mid-range product  Slowest Days        Average Orders         10   \n",
       "2  Mid-range product  Slowest Days           Most Orders         10   \n",
       "3  Mid-range product  Slowest Days        Average Orders         10   \n",
       "4  Mid-range product  Slowest Days           Most Orders         10   \n",
       "\n",
       "   loyalty_flag  mean_price spending_flag  median_days    frequency_flag  \\\n",
       "0  New customer    6.367797   Low Spender         20.0  Regular customer   \n",
       "1  New customer    6.367797   Low Spender         20.0  Regular customer   \n",
       "2  New customer    6.367797   Low Spender         20.0  Regular customer   \n",
       "3  New customer    6.367797   Low Spender         20.0  Regular customer   \n",
       "4  New customer    6.367797   Low Spender         20.0  Regular customer   \n",
       "\n",
       "   Gender    State  Age date_joined  dependents fam_status  income Region  \\\n",
       "0  Female  Alabama   31   2/17/2019           3    married   40423  South   \n",
       "1  Female  Alabama   31   2/17/2019           3    married   40423  South   \n",
       "2  Female  Alabama   31   2/17/2019           3    married   40423  South   \n",
       "3  Female  Alabama   31   2/17/2019           3    married   40423  South   \n",
       "4  Female  Alabama   31   2/17/2019           3    married   40423  South   \n",
       "\n",
       "                 activity department  age_group          income_group  \\\n",
       "0  high activity customer  beverages  Young Age  Below Average Income   \n",
       "1  high activity customer  beverages  Young Age  Below Average Income   \n",
       "2  high activity customer  beverages  Young Age  Below Average Income   \n",
       "3  high activity customer  beverages  Young Age  Below Average Income   \n",
       "4  high activity customer  beverages  Young Age  Below Average Income   \n",
       "\n",
       "  dependent_group customer_profile  parent_profile  \n",
       "0      Dependents   Younger Parent  Younger Parent  \n",
       "1      Dependents   Younger Parent  Younger Parent  \n",
       "2      Dependents   Younger Parent  Younger Parent  \n",
       "3      Dependents   Younger Parent  Younger Parent  \n",
       "4      Dependents   Younger Parent  Younger Parent  "
      ]
     },
     "execution_count": 18,
     "metadata": {},
     "output_type": "execute_result"
    }
   ],
   "source": [
    "df.head()"
   ]
  },
  {
   "cell_type": "code",
   "execution_count": 20,
   "id": "b7084a95",
   "metadata": {},
   "outputs": [
    {
     "data": {
      "text/plain": [
       "Regularly busy    21430960\n",
       "Busiest day        5908610\n",
       "Least busy         3624994\n",
       "Name: busiest_day, dtype: int64"
      ]
     },
     "execution_count": 20,
     "metadata": {},
     "output_type": "execute_result"
    }
   ],
   "source": [
    "df['busiest_day'].value_counts(dropna = False)"
   ]
  },
  {
   "cell_type": "code",
   "execution_count": 21,
   "id": "e15780fd",
   "metadata": {},
   "outputs": [
    {
     "data": {
      "text/plain": [
       "Regular Days    12349739\n",
       "Busiest Days    11320296\n",
       "Slowest Days     7294529\n",
       "Name: busiest_days, dtype: int64"
      ]
     },
     "execution_count": 21,
     "metadata": {},
     "output_type": "execute_result"
    }
   ],
   "source": [
    "df['busiest_days'].value_counts(dropna = False)"
   ]
  },
  {
   "cell_type": "code",
   "execution_count": 22,
   "id": "6bc17363",
   "metadata": {},
   "outputs": [
    {
     "data": {
      "text/plain": [
       "Most Orders       20180856\n",
       "Average Orders     9550810\n",
       "Fewest Orders      1232898\n",
       "Name: busiest_period_of_day, dtype: int64"
      ]
     },
     "execution_count": 22,
     "metadata": {},
     "output_type": "execute_result"
    }
   ],
   "source": [
    "df['busiest_period_of_day'].value_counts(dropna = False)"
   ]
  },
  {
   "cell_type": "code",
   "execution_count": 23,
   "id": "33a0217f",
   "metadata": {},
   "outputs": [
    {
     "data": {
      "text/plain": [
       "Regular customer    15876776\n",
       "Loyal customer      10284093\n",
       "New customer         4803695\n",
       "Name: loyalty_flag, dtype: int64"
      ]
     },
     "execution_count": 23,
     "metadata": {},
     "output_type": "execute_result"
    }
   ],
   "source": [
    "df['loyalty_flag'].value_counts(dropna = False)"
   ]
  },
  {
   "cell_type": "code",
   "execution_count": 24,
   "id": "6f7e32d4",
   "metadata": {},
   "outputs": [
    {
     "data": {
      "text/plain": [
       "Low Spender     30361139\n",
       "High Spender      603425\n",
       "Name: spending_flag, dtype: int64"
      ]
     },
     "execution_count": 24,
     "metadata": {},
     "output_type": "execute_result"
    }
   ],
   "source": [
    "df['spending_flag'].value_counts(dropna = False)"
   ]
  },
  {
   "cell_type": "code",
   "execution_count": 25,
   "id": "f0ae5c52",
   "metadata": {},
   "outputs": [
    {
     "data": {
      "text/plain": [
       "Frequent customer        22208894\n",
       "Regular customer          6568253\n",
       "Non-frequent customer     2187417\n",
       "Name: frequency_flag, dtype: int64"
      ]
     },
     "execution_count": 25,
     "metadata": {},
     "output_type": "execute_result"
    }
   ],
   "source": [
    "df['frequency_flag'].value_counts(dropna = False)"
   ]
  },
  {
   "cell_type": "code",
   "execution_count": 32,
   "id": "f3642444",
   "metadata": {},
   "outputs": [
    {
     "data": {
      "text/plain": [
       "Middle Age    11651255\n",
       "Older Age     10574504\n",
       "Young Age      8738805\n",
       "Name: age_group, dtype: int64"
      ]
     },
     "execution_count": 32,
     "metadata": {},
     "output_type": "execute_result"
    }
   ],
   "source": [
    "df['age_group'].value_counts(dropna = False)"
   ]
  },
  {
   "cell_type": "code",
   "execution_count": 33,
   "id": "fa23c633",
   "metadata": {},
   "outputs": [
    {
     "data": {
      "text/plain": [
       "Dependents       23224883\n",
       "No Dependents     7739681\n",
       "Name: dependent_group, dtype: int64"
      ]
     },
     "execution_count": 33,
     "metadata": {},
     "output_type": "execute_result"
    }
   ],
   "source": [
    "df['dependent_group'].value_counts(dropna = False)"
   ]
  },
  {
   "cell_type": "code",
   "execution_count": 34,
   "id": "abb4c1ba",
   "metadata": {},
   "outputs": [
    {
     "data": {
      "text/plain": [
       "Regularly busy    21430960\n",
       "Busiest day        5908610\n",
       "Least busy         3624994\n",
       "Name: busiest_day, dtype: int64"
      ]
     },
     "execution_count": 34,
     "metadata": {},
     "output_type": "execute_result"
    }
   ],
   "source": [
    "df['busiest_day'].value_counts(dropna = False)"
   ]
  },
  {
   "cell_type": "code",
   "execution_count": 36,
   "id": "c62c8632",
   "metadata": {},
   "outputs": [
    {
     "data": {
      "text/plain": [
       "0    5908610\n",
       "1    5411686\n",
       "6    4291304\n",
       "5    4033729\n",
       "2    4024706\n",
       "3    3669535\n",
       "4    3624994\n",
       "Name: orders_day_of_week, dtype: int64"
      ]
     },
     "execution_count": 36,
     "metadata": {},
     "output_type": "execute_result"
    }
   ],
   "source": [
    "df['orders_day_of_week'].value_counts(dropna = False)"
   ]
  },
  {
   "cell_type": "code",
   "execution_count": 37,
   "id": "fbca9dd6",
   "metadata": {},
   "outputs": [
    {
     "data": {
      "text/plain": [
       "10    2649744\n",
       "11    2614880\n",
       "14    2567903\n",
       "13    2539276\n",
       "15    2535966\n",
       "12    2495795\n",
       "16    2413681\n",
       "9     2363611\n",
       "17    1982345\n",
       "8     1659110\n",
       "18    1551184\n",
       "19    1193878\n",
       "20     930909\n",
       "7      863213\n",
       "21     763111\n",
       "22     607060\n",
       "23     384554\n",
       "6      281013\n",
       "0      208042\n",
       "1      109621\n",
       "5       84418\n",
       "2       65691\n",
       "4       50763\n",
       "3       48796\n",
       "Name: order_hour_of_day, dtype: int64"
      ]
     },
     "execution_count": 37,
     "metadata": {},
     "output_type": "execute_result"
    }
   ],
   "source": [
    "df['order_hour_of_day'].value_counts(dropna = False)"
   ]
  },
  {
   "cell_type": "code",
   "execution_count": 38,
   "id": "31ee6331",
   "metadata": {},
   "outputs": [
    {
     "data": {
      "image/png": "[encoded data removed]",
      "text/plain": [
       "<Figure size 432x288 with 1 Axes>"
      ]
     },
     "metadata": {
      "needs_background": "light"
     },
     "output_type": "display_data"
    }
   ],
   "source": [
    "bar_hod_freq = df['order_hour_of_day'].value_counts().sort_index().plot.bar(title = 'unsure')"
   ]
  },
  {
   "cell_type": "code",
   "execution_count": 40,
   "id": "7f57db9d",
   "metadata": {},
   "outputs": [
    {
     "data": {
      "image/png": "[encoded data removed]",
      "text/plain": [
       "<Figure size 432x288 with 1 Axes>"
      ]
     },
     "metadata": {
      "needs_background": "light"
     },
     "output_type": "display_data"
    }
   ],
   "source": [
    "bar_ = df['price_range_loc'].value_counts().sort_index().plot.bar(title = 'Price Range')"
   ]
  },
  {
   "cell_type": "code",
   "execution_count": 41,
   "id": "444710f9",
   "metadata": {},
   "outputs": [],
   "source": [
    "bar_.figure.savefig(os.path.join(path, '04 Analysis','Visualizations', 'bar_price_range.png'))"
   ]
  },
  {
   "cell_type": "code",
   "execution_count": 48,
   "id": "7f7737fb",
   "metadata": {},
   "outputs": [],
   "source": [
    "# grouping for stacked bar graph\n",
    "loyalty_depts = df.groupby(['department', 'loyalty_flag']).size().unstack(fill_value=0)"
   ]
  },
  {
   "cell_type": "code",
   "execution_count": 64,
   "id": "1a5d1452",
   "metadata": {},
   "outputs": [
    {
     "data": {
      "image/png": "[encoded data removed]",
      "text/plain": [
       "<Figure size 432x288 with 1 Axes>"
      ]
     },
     "metadata": {
      "needs_background": "light"
     },
     "output_type": "display_data"
    }
   ],
   "source": [
    "stacked_loyalty_dept = loyalty_depts.plot.barh(stacked = True, title = 'Department by Loyalty Status')"
   ]
  },
  {
   "cell_type": "code",
   "execution_count": 53,
   "id": "00698f07",
   "metadata": {},
   "outputs": [
    {
     "data": {
      "image/png": "[encoded data removed]",
      "text/plain": [
       "<Figure size 432x288 with 1 Axes>"
      ]
     },
     "metadata": {
      "needs_background": "light"
     },
     "output_type": "display_data"
    }
   ],
   "source": [
    "bar_region = df['Region'].value_counts().sort_index().plot.bar(title = 'Regions')"
   ]
  },
  {
   "cell_type": "code",
   "execution_count": 54,
   "id": "de68710c",
   "metadata": {},
   "outputs": [],
   "source": [
    "# grouping for stacked bar graph\n",
    "fam_status_depts = df.groupby(['department', 'fam_status']).size().unstack(fill_value=0)"
   ]
  },
  {
   "cell_type": "code",
   "execution_count": 55,
   "id": "13900807",
   "metadata": {},
   "outputs": [
    {
     "data": {
      "image/png": "[encoded data removed]",
      "text/plain": [
       "<Figure size 432x288 with 1 Axes>"
      ]
     },
     "metadata": {
      "needs_background": "light"
     },
     "output_type": "display_data"
    }
   ],
   "source": [
    "stacked_fam_dept = fam_status_depts.plot.barh(stacked = True, title = 'Department by Family Status')"
   ]
  },
  {
   "cell_type": "code",
   "execution_count": 56,
   "id": "ce41f2d7",
   "metadata": {},
   "outputs": [],
   "source": [
    "age_group_depts = df.groupby(['department', 'age_group']).size().unstack(fill_value=0)"
   ]
  },
  {
   "cell_type": "code",
   "execution_count": 57,
   "id": "df5117fc",
   "metadata": {},
   "outputs": [
    {
     "data": {
      "image/png": "[encoded data removed]",
      "text/plain": [
       "<Figure size 432x288 with 1 Axes>"
      ]
     },
     "metadata": {
      "needs_background": "light"
     },
     "output_type": "display_data"
    }
   ],
   "source": [
    "stacked_age_dept = age_group_depts.plot.barh(stacked = True, title = 'Department by Age Group')"
   ]
  },
  {
   "cell_type": "code",
   "execution_count": 59,
   "id": "535e29ff",
   "metadata": {},
   "outputs": [
    {
     "data": {
      "image/png": "[encoded data removed]",
      "text/plain": [
       "<Figure size 432x288 with 1 Axes>"
      ]
     },
     "metadata": {
      "needs_background": "light"
     },
     "output_type": "display_data"
    }
   ],
   "source": [
    "bar_departments = df['department'].value_counts().sort_index().plot.bar(title = 'The Number of Orders by Department')"
   ]
  },
  {
   "cell_type": "code",
   "execution_count": 62,
   "id": "66bf6f6e",
   "metadata": {},
   "outputs": [
    {
     "data": {
      "image/png": "[encoded data removed]",
      "text/plain": [
       "<Figure size 432x288 with 1 Axes>"
      ]
     },
     "metadata": {
      "needs_background": "light"
     },
     "output_type": "display_data"
    }
   ],
   "source": [
    "bar_departments = df['department'].value_counts().plot.barh()"
   ]
  },
  {
   "cell_type": "code",
   "execution_count": 66,
   "id": "ec7349b8",
   "metadata": {},
   "outputs": [],
   "source": [
    "region_depts = df.groupby(['department', 'Region']).size().unstack(fill_value=0)"
   ]
  },
  {
   "cell_type": "code",
   "execution_count": 68,
   "id": "57aeb18b",
   "metadata": {},
   "outputs": [
    {
     "data": {
      "image/png": "[encoded data removed]",
      "text/plain": [
       "<Figure size 432x288 with 1 Axes>"
      ]
     },
     "metadata": {
      "needs_background": "light"
     },
     "output_type": "display_data"
    }
   ],
   "source": [
    "stacked_region_dept = region_depts.plot.barh(stacked = True)"
   ]
  },
  {
   "cell_type": "code",
   "execution_count": 74,
   "id": "fc87bd7f",
   "metadata": {},
   "outputs": [
    {
     "data": {
      "text/plain": [
       "produce            9079273\n",
       "dairy eggs         5177182\n",
       "snacks             2766406\n",
       "beverages          2571901\n",
       "frozen             2121731\n",
       "pantry             1782705\n",
       "bakery             1120828\n",
       "canned goods       1012074\n",
       "deli               1003834\n",
       "dry goods pasta     822136\n",
       "household           699857\n",
       "meat seafood        674781\n",
       "breakfast           670850\n",
       "personal care       424306\n",
       "babies              410392\n",
       "international       255991\n",
       "alcohol             144627\n",
       "pets                 93060\n",
       "missing              64768\n",
       "other                34411\n",
       "bulk                 33451\n",
       "Name: department, dtype: int64"
      ]
     },
     "execution_count": 74,
     "metadata": {},
     "output_type": "execute_result"
    }
   ],
   "source": [
    "df['department'].value_counts(dropna = False)"
   ]
  },
  {
   "cell_type": "code",
   "execution_count": 75,
   "id": "9c25cdc6",
   "metadata": {},
   "outputs": [],
   "source": [
    "parent_depts = df.groupby(['department', 'parent_profile']).size().unstack(fill_value=0)"
   ]
  },
  {
   "cell_type": "code",
   "execution_count": 76,
   "id": "c73f8e6f",
   "metadata": {},
   "outputs": [
    {
     "data": {
      "image/png": "[encoded data removed]",
      "text/plain": [
       "<Figure size 432x288 with 1 Axes>"
      ]
     },
     "metadata": {
      "needs_background": "light"
     },
     "output_type": "display_data"
    }
   ],
   "source": [
    "stacked_parent_dept = parent_depts.plot.barh(stacked = True)"
   ]
  },
  {
   "cell_type": "code",
   "execution_count": 84,
   "id": "ac82fcf0",
   "metadata": {},
   "outputs": [
    {
     "data": {
      "image/png": "[encoded data removed]",
      "text/plain": [
       "<Figure size 432x288 with 1 Axes>"
      ]
     },
     "metadata": {
      "needs_background": "light"
     },
     "output_type": "display_data"
    }
   ],
   "source": [
    "bar_pp= df['age_group'].value_counts().plot.bar()"
   ]
  },
  {
   "cell_type": "code",
   "execution_count": 85,
   "id": "11547741",
   "metadata": {},
   "outputs": [
    {
     "data": {
      "image/png": "[encoded data removed]",
      "text/plain": [
       "<Figure size 432x288 with 1 Axes>"
      ]
     },
     "metadata": {
      "needs_background": "light"
     },
     "output_type": "display_data"
    }
   ],
   "source": [
    "bar_pp= df['income_group'].value_counts().plot.bar()"
   ]
  },
  {
   "cell_type": "code",
   "execution_count": 87,
   "id": "e447da05",
   "metadata": {},
   "outputs": [
    {
     "data": {
      "image/png": "[encoded data removed]",
      "text/plain": [
       "<Figure size 432x288 with 1 Axes>"
      ]
     },
     "metadata": {
      "needs_background": "light"
     },
     "output_type": "display_data"
    }
   ],
   "source": [
    "hist_2 = df['income'].plot.hist(bins = 100)"
   ]
  },
  {
   "cell_type": "code",
   "execution_count": 88,
   "id": "d98a35e2",
   "metadata": {},
   "outputs": [
    {
     "data": {
      "text/plain": [
       "72344     4395\n",
       "112610    4242\n",
       "57501     4136\n",
       "115620    3831\n",
       "36163     3657\n",
       "          ... \n",
       "52741        5\n",
       "48493        5\n",
       "33040        5\n",
       "91717        5\n",
       "147660       2\n",
       "Name: income, Length: 96069, dtype: int64"
      ]
     },
     "execution_count": 88,
     "metadata": {},
     "output_type": "execute_result"
    }
   ],
   "source": [
    "df['income'].value_counts(dropna = False)"
   ]
  },
  {
   "cell_type": "code",
   "execution_count": 89,
   "id": "d9852b3d",
   "metadata": {},
   "outputs": [
    {
     "data": {
      "text/plain": [
       "99675.86510754681"
      ]
     },
     "execution_count": 89,
     "metadata": {},
     "output_type": "execute_result"
    }
   ],
   "source": [
    "df['income'].mean()"
   ]
  },
  {
   "cell_type": "code",
   "execution_count": 92,
   "id": "e1851706",
   "metadata": {},
   "outputs": [],
   "source": [
    "income_depts = df.groupby(['department', 'income_group']).size().unstack(fill_value=0)"
   ]
  },
  {
   "cell_type": "code",
   "execution_count": 93,
   "id": "a98ce110",
   "metadata": {},
   "outputs": [
    {
     "data": {
      "text/plain": [
       "<AxesSubplot:ylabel='department'>"
      ]
     },
     "execution_count": 93,
     "metadata": {},
     "output_type": "execute_result"
    },
    {
     "data": {
      "image/png": "[encoded data removed]",
      "text/plain": [
       "<Figure size 432x288 with 1 Axes>"
      ]
     },
     "metadata": {
      "needs_background": "light"
     },
     "output_type": "display_data"
    }
   ],
   "source": [
    "income_depts.plot.barh(stacked = True)"
   ]
  },
  {
   "cell_type": "code",
   "execution_count": 9,
   "id": "75bf0682",
   "metadata": {},
   "outputs": [
    {
     "data": {
      "image/png": "[encoded data removed]",
      "text/plain": [
       "<Figure size 432x288 with 1 Axes>"
      ]
     },
     "metadata": {
      "needs_background": "light"
     },
     "output_type": "display_data"
    }
   ],
   "source": []
  },
  {
   "cell_type": "code",
   "execution_count": 11,
   "id": "173474ae",
   "metadata": {},
   "outputs": [],
   "source": [
    "bar_departments.figure.savefig(os.path.join(path, '04 Analysis','Visualizations', 'bar_dept_vert.png'))"
   ]
  },
  {
   "cell_type": "code",
   "execution_count": 13,
   "id": "81a5c9ca",
   "metadata": {},
   "outputs": [
    {
     "data": {
      "text/plain": [
       "South        10311139\n",
       "West          7927227\n",
       "Midwest       7261513\n",
       "Northeast     5464685\n",
       "Name: Region, dtype: int64"
      ]
     },
     "execution_count": 13,
     "metadata": {},
     "output_type": "execute_result"
    }
   ],
   "source": [
    "df['Region'].value_counts(dropna = False)"
   ]
  },
  {
   "cell_type": "code",
   "execution_count": 14,
   "id": "d9539e38",
   "metadata": {},
   "outputs": [
    {
     "data": {
      "image/png": "[encoded data removed]",
      "text/plain": [
       "<Figure size 432x288 with 1 Axes>"
      ]
     },
     "metadata": {
      "needs_background": "light"
     },
     "output_type": "display_data"
    }
   ],
   "source": [
    "bar_fam_status = df['fam_status'].value_counts().plot.bar()"
   ]
  },
  {
   "cell_type": "code",
   "execution_count": 15,
   "id": "6b11b188",
   "metadata": {},
   "outputs": [],
   "source": [
    "bar_fam_status.figure.savefig(os.path.join(path, '04 Analysis','Visualizations', 'bar_fam status.png'))"
   ]
  },
  {
   "cell_type": "code",
   "execution_count": 16,
   "id": "fafcd645",
   "metadata": {},
   "outputs": [
    {
     "data": {
      "image/png": "[encoded data removed]",
      "text/plain": [
       "<Figure size 432x288 with 1 Axes>"
      ]
     },
     "metadata": {
      "needs_background": "light"
     },
     "output_type": "display_data"
    }
   ],
   "source": [
    "bar_pp = df['parent_profile'].value_counts().plot.bar()"
   ]
  },
  {
   "cell_type": "code",
   "execution_count": 17,
   "id": "8cc643d1",
   "metadata": {},
   "outputs": [],
   "source": [
    "bar_pp.figure.savefig(os.path.join(path, '04 Analysis','Visualizations', 'bar_fam status.png'))"
   ]
  },
  {
   "cell_type": "code",
   "execution_count": 19,
   "id": "14936104",
   "metadata": {},
   "outputs": [
    {
     "data": {
      "image/png": "[encoded data removed]",
      "text/plain": [
       "<Figure size 432x288 with 1 Axes>"
      ]
     },
     "metadata": {
      "needs_background": "light"
     },
     "output_type": "display_data"
    }
   ],
   "source": [
    "bar_income = df['income_group'].value_counts().plot.bar()"
   ]
  },
  {
   "cell_type": "code",
   "execution_count": 20,
   "id": "8c20dc66",
   "metadata": {},
   "outputs": [],
   "source": [
    "bar_income.figure.savefig(os.path.join(path, '04 Analysis','Visualizations', 'bar_income.png'))"
   ]
  },
  {
   "cell_type": "code",
   "execution_count": null,
   "id": "e2030b64",
   "metadata": {},
   "outputs": [],
   "source": []
  }
 ],
 "metadata": {
  "kernelspec": {
   "display_name": "Python 3 (ipykernel)",
   "language": "python",
   "name": "python3"
  },
  "language_info": {
   "codemirror_mode": {
    "name": "ipython",
    "version": 3
   },
   "file_extension": ".py",
   "mimetype": "text/x-python",
   "name": "python",
   "nbconvert_exporter": "python",
   "pygments_lexer": "ipython3",
   "version": "3.9.7"
  }
 },
 "nbformat": 4,
 "nbformat_minor": 5
}
